{
 "cells": [
  {
   "cell_type": "code",
   "execution_count": 5,
   "metadata": {},
   "outputs": [],
   "source": [
    "from keras.preprocessing.image import load_img, img_to_array, ImageDataGenerator\n",
    "import matplotlib.pyplot as plt\n",
    "import cv2\n",
    "import numpy as np\n",
    "from tqdm import tqdm_notebook"
   ]
  },
  {
   "cell_type": "code",
   "execution_count": 7,
   "metadata": {},
   "outputs": [
    {
     "name": "stderr",
     "output_type": "stream",
     "text": [
      "C:\\Users\\joww0\\AppData\\Roaming\\Python\\Python37\\site-packages\\ipykernel_launcher.py:3: TqdmDeprecationWarning: This function will be removed in tqdm==5.0.0\n",
      "Please use `tqdm.notebook.tqdm` instead of `tqdm.tqdm_notebook`\n",
      "  This is separate from the ipykernel package so we can avoid doing imports until\n"
     ]
    },
    {
     "data": {
      "application/vnd.jupyter.widget-view+json": {
       "model_id": "32d5a965f5d24781b60fde6bc8200a1b",
       "version_major": 2,
       "version_minor": 0
      },
      "text/plain": [
       "HBox(children=(FloatProgress(value=0.0, max=6.0), HTML(value='')))"
      ]
     },
     "metadata": {},
     "output_type": "display_data"
    },
    {
     "name": "stdout",
     "output_type": "stream",
     "text": [
      "\n"
     ]
    }
   ],
   "source": [
    "# 전체 \n",
    "eye_types = ['bonghwang','dohwa','gongjak','so','yong','horang']\n",
    "for type_name in tqdm_notebook(eye_types):\n",
    "    for i in range(300):\n",
    "        try:\n",
    "            img = load_img('eyes_test_real/eyes_test_origin/total/{} ({}).jpg'.format(type_name,i))\n",
    "            data = img_to_array(img)\n",
    "            samples = np.expand_dims(data, 0)\n",
    "            datagen = ImageDataGenerator(\n",
    "                rotation_range=20,\n",
    "                horizontal_flip=True, \n",
    "                vertical_flip=True,\n",
    "                height_shift_range=0.1,\n",
    "                width_shift_range=[-10,10],\n",
    "                brightness_range=[0.2,1]\n",
    "            )\n",
    "            it = datagen.flow(samples, batch_size=1)\n",
    "            # fig = plt.figure(figsize=(30,30))\n",
    "            for j in range(20):\n",
    "                batch = it.next()\n",
    "                image = batch[0].astype('uint8') # float -> unsigned int8 (양수만 있는 8bit: 0~255)\n",
    "                cv2.imwrite('eyes_test_real/eyes_test_origin/total_augmented/{} {}_{}.jpg'.format(type_name, i,j), image)\n",
    "        except:\n",
    "            pass"
   ]
  },
  {
   "cell_type": "code",
   "execution_count": 13,
   "metadata": {},
   "outputs": [
    {
     "name": "stderr",
     "output_type": "stream",
     "text": [
      "C:\\Users\\joww0\\AppData\\Roaming\\Python\\Python37\\site-packages\\ipykernel_launcher.py:2: TqdmDeprecationWarning: This function will be removed in tqdm==5.0.0\n",
      "Please use `tqdm.notebook.tqdm` instead of `tqdm.tqdm_notebook`\n",
      "  \n"
     ]
    },
    {
     "data": {
      "application/vnd.jupyter.widget-view+json": {
       "model_id": "636870cb8f79456985ba6d19d3f1845f",
       "version_major": 2,
       "version_minor": 0
      },
      "text/plain": [
       "HBox(children=(FloatProgress(value=0.0, max=300.0), HTML(value='')))"
      ]
     },
     "metadata": {},
     "output_type": "display_data"
    },
    {
     "name": "stdout",
     "output_type": "stream",
     "text": [
      "\n"
     ]
    }
   ],
   "source": [
    "# 한 종류씩 이미지 증식\n",
    "for i in tqdm_notebook(range(300)):\n",
    "    try:\n",
    "        img = load_img('eyes_test_real/eyes_test_origin/total/horang ({}).jpg'.format(i))\n",
    "        data = img_to_array(img)\n",
    "        samples = np.expand_dims(data, 0)\n",
    "        datagen = ImageDataGenerator(\n",
    "            rotation_range=20,\n",
    "            horizontal_flip=True, \n",
    "            vertical_flip=True,\n",
    "            height_shift_range=0.1,\n",
    "            width_shift_range=[-10,10],\n",
    "            brightness_range=[0.2,1]\n",
    "        )\n",
    "        it = datagen.flow(samples, batch_size=1)\n",
    "        # fig = plt.figure(figsize=(30,30))\n",
    "        for j in range(43):\n",
    "            batch = it.next()\n",
    "            image = batch[0].astype('uint8') # float -> unsigned int8 (양수만 있는 8bit: 0~255)\n",
    "            cv2.imwrite('eyes_test_real/eyes_test_origin/total_augmented/horang {}_{}.jpg'.format(i,j), image)\n",
    "    except:\n",
    "        pass"
   ]
  },
  {
   "cell_type": "code",
   "execution_count": null,
   "metadata": {},
   "outputs": [],
   "source": []
  }
 ],
 "metadata": {
  "kernelspec": {
   "display_name": "Python 3",
   "language": "python",
   "name": "python3"
  },
  "language_info": {
   "codemirror_mode": {
    "name": "ipython",
    "version": 3
   },
   "file_extension": ".py",
   "mimetype": "text/x-python",
   "name": "python",
   "nbconvert_exporter": "python",
   "pygments_lexer": "ipython3",
   "version": "3.7.7"
  }
 },
 "nbformat": 4,
 "nbformat_minor": 4
}

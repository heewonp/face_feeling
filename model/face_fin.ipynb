{
 "cells": [
  {
   "cell_type": "code",
   "execution_count": 1,
   "metadata": {},
   "outputs": [],
   "source": [
    "import numpy as np\n",
    "import pandas as pd \n",
    "from keras.preprocessing.image import ImageDataGenerator, load_img, img_to_array\n",
    "from keras.utils import to_categorical\n",
    "from sklearn.model_selection import train_test_split\n",
    "import matplotlib.pyplot as plt \n",
    "import random\n",
    "import os\n",
    "import cv2"
   ]
  },
  {
   "cell_type": "code",
   "execution_count": 2,
   "metadata": {},
   "outputs": [],
   "source": [
    "IMAGE_WIDTH=40\n",
    "IMAGE_HEIGHT=40\n",
    "IMAGE_SIZE=(IMAGE_WIDTH, IMAGE_HEIGHT)\n",
    "IMAGE_CHANNELS=3"
   ]
  },
  {
   "cell_type": "code",
   "execution_count": 3,
   "metadata": {},
   "outputs": [],
   "source": [
    "# face_cascade = cv2.CascadeClassifier('C:/ProgramData/Anaconda3/Lib/site-packages/cv2/data/haarcascade_frontalface_default.xml')\n",
    "# eye_cascade = cv2.CascadeClassifier('C:/ProgramData/Anaconda3/Lib/site-packages/cv2/data/haarcascade_eye.xml')\n",
    "# dirList=['bonghwang','dohwa','gongjak','horang']\n",
    "\n",
    "# for dirname in dirList:\n",
    "#     train_dir=os.listdir(\"train/\"+dirnmae)\n",
    "#     for filename in train_dir:\n",
    "#         img=cv2.imread(\"train/\"+filename)\n",
    "#         faces = face_cascade.detectMultiScale(img, 1.3,5)\n",
    "#         for (x,y,w,h) in faces:\n",
    "#             cropped = img[y :y + h, x:x + w]\n",
    "#             cv2.imwrite(\"train/face/\"+dirname+\".face.\"+i+'.jpg', cropped)           "
   ]
  },
  {
   "cell_type": "code",
   "execution_count": 4,
   "metadata": {},
   "outputs": [],
   "source": [
    "# train_face_dir=os.listdir(\"train/face/\")\n",
    "# for filename in train_face_dir:\n",
    "#     img=cv2.imread(\"train/face/\"+filename)\n",
    "#     eyes = eye_cascade.detectMultiScale(img)\n",
    "#     try: \n",
    "#         for (ex,ey,ew,eh) in [eyes[0]]: # 사진의 왼쪽\n",
    "#             dst = img[ey-int(eh*0.01):(ey+eh+int(eh*0.01)),ex-int(ew*0.1):(ex+ew+int(ew*0.1))]\n",
    "#             cv2.imwrite(\"train/eyes/\"+filename.split('.')[0]+\".eye_l.\"+filename.split('.')[2]+\".\"+filename.split('.')[3],dst)\n",
    "\n",
    "#         for (ex,ey,ew,eh) in [eyes[1]]: # 사진의 오른쪽\n",
    "#             dst = img[ey-int(eh*0.01):(ey+eh+int(eh*0.01)),ex-int(ew*0.1):(ex+ew+int(ew*0.1))]\n",
    "#             cv2.imwrite(\"train/eyes/\"+filename.split('.')[0]+\".eye_r.\"+filename.split('.')[2]+\".\"+filename.split('.')[3],dst)\n",
    "#     except:\n",
    "#         pass          "
   ]
  },
  {
   "cell_type": "code",
   "execution_count": 5,
   "metadata": {},
   "outputs": [],
   "source": [
    "# dirList=['bonghwang','dohwa','gongjak','horang']\n",
    "\n",
    "# categories=[]\n",
    "# train_dir_list=[]\n",
    "# for dirnames in dirList:\n",
    "#     train_dir=os.listdir(\"train1/\"+dirnames)\n",
    "#     categories.append(dirnames)\n",
    "#     for i in train_dir:\n",
    "#         train_dir_list.append(train_dir)\n",
    "train_dir=os.listdir(\"train1/\")\n",
    "categories=[]\n",
    "for filename in train_dir:\n",
    "    category=filename.split(\".\")[0]\n",
    "    if category == 'bonghwang':\n",
    "        categories.append('bonghwang')\n",
    "    elif category == 'dohwa':\n",
    "        categories.append('dohwa')\n",
    "    elif category == 'gongjak':\n",
    "            categories.append('gongjak')\n",
    "    elif category == 'horang':\n",
    "        categories.append('horang')\n",
    "    elif category == 'so':\n",
    "        categories.append('so')\n",
    "    elif category == 'yong':\n",
    "            categories.append('yong')"
   ]
  },
  {
   "cell_type": "code",
   "execution_count": 6,
   "metadata": {
    "scrolled": true
   },
   "outputs": [
    {
     "data": {
      "text/html": [
       "<div>\n",
       "<style scoped>\n",
       "    .dataframe tbody tr th:only-of-type {\n",
       "        vertical-align: middle;\n",
       "    }\n",
       "\n",
       "    .dataframe tbody tr th {\n",
       "        vertical-align: top;\n",
       "    }\n",
       "\n",
       "    .dataframe thead th {\n",
       "        text-align: right;\n",
       "    }\n",
       "</style>\n",
       "<table border=\"1\" class=\"dataframe\">\n",
       "  <thead>\n",
       "    <tr style=\"text-align: right;\">\n",
       "      <th></th>\n",
       "      <th>filename</th>\n",
       "      <th>category</th>\n",
       "    </tr>\n",
       "  </thead>\n",
       "  <tbody>\n",
       "    <tr>\n",
       "      <th>0</th>\n",
       "      <td>bonghwang.00001.PNG</td>\n",
       "      <td>bonghwang</td>\n",
       "    </tr>\n",
       "    <tr>\n",
       "      <th>1</th>\n",
       "      <td>bonghwang.00002.PNG</td>\n",
       "      <td>bonghwang</td>\n",
       "    </tr>\n",
       "    <tr>\n",
       "      <th>2</th>\n",
       "      <td>bonghwang.00003.PNG</td>\n",
       "      <td>bonghwang</td>\n",
       "    </tr>\n",
       "    <tr>\n",
       "      <th>3</th>\n",
       "      <td>bonghwang.00004.PNG</td>\n",
       "      <td>bonghwang</td>\n",
       "    </tr>\n",
       "    <tr>\n",
       "      <th>4</th>\n",
       "      <td>bonghwang.00005.PNG</td>\n",
       "      <td>bonghwang</td>\n",
       "    </tr>\n",
       "    <tr>\n",
       "      <th>...</th>\n",
       "      <td>...</td>\n",
       "      <td>...</td>\n",
       "    </tr>\n",
       "    <tr>\n",
       "      <th>1195</th>\n",
       "      <td>yong.00196.JPG</td>\n",
       "      <td>yong</td>\n",
       "    </tr>\n",
       "    <tr>\n",
       "      <th>1196</th>\n",
       "      <td>yong.00197.JPG</td>\n",
       "      <td>yong</td>\n",
       "    </tr>\n",
       "    <tr>\n",
       "      <th>1197</th>\n",
       "      <td>yong.00198.JPG</td>\n",
       "      <td>yong</td>\n",
       "    </tr>\n",
       "    <tr>\n",
       "      <th>1198</th>\n",
       "      <td>yong.00199.JPG</td>\n",
       "      <td>yong</td>\n",
       "    </tr>\n",
       "    <tr>\n",
       "      <th>1199</th>\n",
       "      <td>yong.00200.JPG</td>\n",
       "      <td>yong</td>\n",
       "    </tr>\n",
       "  </tbody>\n",
       "</table>\n",
       "<p>1200 rows × 2 columns</p>\n",
       "</div>"
      ],
      "text/plain": [
       "                 filename   category\n",
       "0     bonghwang.00001.PNG  bonghwang\n",
       "1     bonghwang.00002.PNG  bonghwang\n",
       "2     bonghwang.00003.PNG  bonghwang\n",
       "3     bonghwang.00004.PNG  bonghwang\n",
       "4     bonghwang.00005.PNG  bonghwang\n",
       "...                   ...        ...\n",
       "1195       yong.00196.JPG       yong\n",
       "1196       yong.00197.JPG       yong\n",
       "1197       yong.00198.JPG       yong\n",
       "1198       yong.00199.JPG       yong\n",
       "1199       yong.00200.JPG       yong\n",
       "\n",
       "[1200 rows x 2 columns]"
      ]
     },
     "execution_count": 6,
     "metadata": {},
     "output_type": "execute_result"
    }
   ],
   "source": [
    "df=pd.DataFrame({'filename':train_dir,'category':categories})\n",
    "df"
   ]
  },
  {
   "cell_type": "code",
   "execution_count": 7,
   "metadata": {},
   "outputs": [
    {
     "data": {
      "text/plain": [
       "dohwa        200\n",
       "gongjak      200\n",
       "horang       200\n",
       "yong         200\n",
       "so           200\n",
       "bonghwang    200\n",
       "Name: category, dtype: int64"
      ]
     },
     "execution_count": 7,
     "metadata": {},
     "output_type": "execute_result"
    }
   ],
   "source": [
    "df.category.value_counts()"
   ]
  },
  {
   "cell_type": "code",
   "execution_count": 8,
   "metadata": {},
   "outputs": [],
   "source": [
    "train_df, validate_df = train_test_split(df, test_size=0.20, random_state=42)\n",
    "train_df = train_df.reset_index(drop=True)\n",
    "validate_df = validate_df.reset_index(drop=True)"
   ]
  },
  {
   "cell_type": "code",
   "execution_count": 9,
   "metadata": {},
   "outputs": [],
   "source": [
    "train_df = train_df.reset_index(drop=True)\n",
    "validate_df = validate_df.reset_index(drop=True)"
   ]
  },
  {
   "cell_type": "code",
   "execution_count": 10,
   "metadata": {},
   "outputs": [
    {
     "data": {
      "text/plain": [
       "<matplotlib.axes._subplots.AxesSubplot at 0x241fcdafa30>"
      ]
     },
     "execution_count": 10,
     "metadata": {},
     "output_type": "execute_result"
    },
    {
     "data": {
      "image/png": "[encoded data removed]",
      "text/plain": [
       "<Figure size 432x288 with 1 Axes>"
      ]
     },
     "metadata": {
      "needs_background": "light"
     },
     "output_type": "display_data"
    }
   ],
   "source": [
    "train_df['category'].value_counts().plot.bar()"
   ]
  },
  {
   "cell_type": "code",
   "execution_count": 11,
   "metadata": {},
   "outputs": [
    {
     "data": {
      "text/plain": [
       "<matplotlib.axes._subplots.AxesSubplot at 0x241fd4c1a00>"
      ]
     },
     "execution_count": 11,
     "metadata": {},
     "output_type": "execute_result"
    },
    {
     "data": {
      "image/png": "[encoded data removed]",
      "text/plain": [
       "<Figure size 432x288 with 1 Axes>"
      ]
     },
     "metadata": {
      "needs_background": "light"
     },
     "output_type": "display_data"
    }
   ],
   "source": [
    "validate_df['category'].value_counts().plot.bar()"
   ]
  },
  {
   "cell_type": "code",
   "execution_count": 12,
   "metadata": {},
   "outputs": [],
   "source": [
    "total_train = train_df.shape[0]\n",
    "total_validate = validate_df.shape[0]\n",
    "batch_size=10"
   ]
  },
  {
   "cell_type": "code",
   "execution_count": 13,
   "metadata": {},
   "outputs": [],
   "source": [
    "train_datagen = ImageDataGenerator(rotation_range=20,\n",
    "                                   rescale=1./255,\n",
    "                                   shear_range=0.1,\n",
    "                                   zoom_range=0.2,\n",
    "                                   brightness_range=[0.5,1],\n",
    "                                   horizontal_flip=True,\n",
    "                                   width_shift_range=0.1,\n",
    "                                   height_shift_range=0.1)"
   ]
  },
  {
   "cell_type": "code",
   "execution_count": 14,
   "metadata": {},
   "outputs": [
    {
     "name": "stdout",
     "output_type": "stream",
     "text": [
      "Found 960 validated image filenames belonging to 6 classes.\n"
     ]
    }
   ],
   "source": [
    "train_generator=train_datagen.flow_from_dataframe(train_df,\n",
    "                                                  'train1/',\n",
    "                                                  x_col='filename',\n",
    "                                                  y_col='category',\n",
    "                                                  target_size=IMAGE_SIZE,\n",
    "                                                  class_mode='categorical',\n",
    "                                                  batch_size=batch_size\n",
    "                                                 )"
   ]
  },
  {
   "cell_type": "code",
   "execution_count": 15,
   "metadata": {},
   "outputs": [
    {
     "name": "stdout",
     "output_type": "stream",
     "text": [
      "Found 240 validated image filenames belonging to 6 classes.\n"
     ]
    }
   ],
   "source": [
    "validation_datagen = ImageDataGenerator(rescale=1./255)\n",
    "\n",
    "validation_generator = validation_datagen.flow_from_dataframe(validate_df,\n",
    "                                                              \"train1/\",\n",
    "                                                              x_col='filename',\n",
    "                                                              y_col='category',\n",
    "                                                              target_size=IMAGE_SIZE,\n",
    "                                                              class_mode='categorical',\n",
    "                                                              batch_size=batch_size\n",
    "                                                             )"
   ]
  },
  {
   "cell_type": "code",
   "execution_count": 16,
   "metadata": {},
   "outputs": [],
   "source": [
    "from keras.models import Sequential\n",
    "from keras.layers import *"
   ]
  },
  {
   "cell_type": "code",
   "execution_count": 17,
   "metadata": {},
   "outputs": [
    {
     "name": "stdout",
     "output_type": "stream",
     "text": [
      "Model: \"sequential\"\n",
      "_________________________________________________________________\n",
      "Layer (type)                 Output Shape              Param #   \n",
      "=================================================================\n",
      "conv2d (Conv2D)              (None, 38, 38, 32)        896       \n",
      "_________________________________________________________________\n",
      "batch_normalization (BatchNo (None, 38, 38, 32)        128       \n",
      "_________________________________________________________________\n",
      "max_pooling2d (MaxPooling2D) (None, 19, 19, 32)        0         \n",
      "_________________________________________________________________\n",
      "dropout (Dropout)            (None, 19, 19, 32)        0         \n",
      "_________________________________________________________________\n",
      "conv2d_1 (Conv2D)            (None, 17, 17, 64)        18496     \n",
      "_________________________________________________________________\n",
      "batch_normalization_1 (Batch (None, 17, 17, 64)        256       \n",
      "_________________________________________________________________\n",
      "max_pooling2d_1 (MaxPooling2 (None, 8, 8, 64)          0         \n",
      "_________________________________________________________________\n",
      "dropout_1 (Dropout)          (None, 8, 8, 64)          0         \n",
      "_________________________________________________________________\n",
      "conv2d_2 (Conv2D)            (None, 6, 6, 128)         73856     \n",
      "_________________________________________________________________\n",
      "batch_normalization_2 (Batch (None, 6, 6, 128)         512       \n",
      "_________________________________________________________________\n",
      "max_pooling2d_2 (MaxPooling2 (None, 3, 3, 128)         0         \n",
      "_________________________________________________________________\n",
      "dropout_2 (Dropout)          (None, 3, 3, 128)         0         \n",
      "_________________________________________________________________\n",
      "flatten (Flatten)            (None, 1152)              0         \n",
      "_________________________________________________________________\n",
      "dense (Dense)                (None, 512)               590336    \n",
      "_________________________________________________________________\n",
      "batch_normalization_3 (Batch (None, 512)               2048      \n",
      "_________________________________________________________________\n",
      "dropout_3 (Dropout)          (None, 512)               0         \n",
      "_________________________________________________________________\n",
      "dense_1 (Dense)              (None, 6)                 3078      \n",
      "=================================================================\n",
      "Total params: 689,606\n",
      "Trainable params: 688,134\n",
      "Non-trainable params: 1,472\n",
      "_________________________________________________________________\n"
     ]
    }
   ],
   "source": [
    "model = Sequential()\n",
    "model.add(Conv2D(32, (3, 3), activation='relu', input_shape=(IMAGE_WIDTH, IMAGE_HEIGHT, IMAGE_CHANNELS)))\n",
    "model.add(BatchNormalization())\n",
    "model.add(MaxPooling2D(pool_size=(2, 2)))\n",
    "model.add(Dropout(0.25))\n",
    "model.add(Conv2D(64, (3, 3), activation='relu'))\n",
    "model.add(BatchNormalization())\n",
    "model.add(MaxPooling2D(pool_size=(2, 2)))\n",
    "model.add(Dropout(0.25))\n",
    "model.add(Conv2D(128, (3, 3), activation='relu'))\n",
    "model.add(BatchNormalization())\n",
    "model.add(MaxPooling2D(pool_size=(2, 2)))\n",
    "model.add(Dropout(0.25))\n",
    "model.add(Flatten())\n",
    "model.add(Dense(512, activation='relu'))\n",
    "model.add(BatchNormalization())\n",
    "model.add(Dropout(0.5))\n",
    "model.add(Dense(6, activation='softmax')) # 2 because we have cat and dog classes\n",
    "model.compile(loss='categorical_crossentropy', optimizer='adam', metrics=['accuracy'])\n",
    "model.summary()"
   ]
  },
  {
   "cell_type": "code",
   "execution_count": 18,
   "metadata": {},
   "outputs": [],
   "source": [
    "from keras.callbacks import EarlyStopping, ReduceLROnPlateau"
   ]
  },
  {
   "cell_type": "code",
   "execution_count": 19,
   "metadata": {},
   "outputs": [],
   "source": [
    "earlystop = EarlyStopping(patience=10),\n",
    "learning_rate_reduction = ReduceLROnPlateau(monitor='val_accuracy',\n",
    "                                           patience=2,\n",
    "                                           verbose=1,\n",
    "                                            factor=0.5,\n",
    "                                            min_lr=0.00001)"
   ]
  },
  {
   "cell_type": "code",
   "execution_count": 20,
   "metadata": {
    "scrolled": true
   },
   "outputs": [
    {
     "name": "stdout",
     "output_type": "stream",
     "text": [
      "WARNING:tensorflow:From <ipython-input-20-bef93646de56>:1: Model.fit_generator (from tensorflow.python.keras.engine.training) is deprecated and will be removed in a future version.\n",
      "Instructions for updating:\n",
      "Please use Model.fit, which supports generators.\n",
      "Epoch 1/300\n",
      "96/96 [==============================] - 4s 45ms/step - loss: 2.7183 - accuracy: 0.2198 - val_loss: 3.3285 - val_accuracy: 0.1583\n",
      "Epoch 2/300\n",
      "96/96 [==============================] - 1s 15ms/step - loss: 2.2719 - accuracy: 0.2427 - val_loss: 4.9865 - val_accuracy: 0.1583\n",
      "Epoch 3/300\n",
      "93/96 [============================>.] - ETA: 0s - loss: 2.1207 - accuracy: 0.2720\n",
      "Epoch 00003: ReduceLROnPlateau reducing learning rate to 0.0005000000237487257.\n",
      "96/96 [==============================] - 1s 15ms/step - loss: 2.1145 - accuracy: 0.2771 - val_loss: 6.9164 - val_accuracy: 0.1583\n",
      "Epoch 4/300\n",
      "96/96 [==============================] - 1s 15ms/step - loss: 2.1747 - accuracy: 0.2667 - val_loss: 4.9840 - val_accuracy: 0.1583\n",
      "Epoch 5/300\n",
      "96/96 [==============================] - 1s 15ms/step - loss: 2.0311 - accuracy: 0.2719 - val_loss: 2.8340 - val_accuracy: 0.2000\n",
      "Epoch 6/300\n",
      "96/96 [==============================] - 1s 15ms/step - loss: 2.0145 - accuracy: 0.2917 - val_loss: 2.4523 - val_accuracy: 0.2750\n",
      "Epoch 7/300\n",
      "96/96 [==============================] - 1s 15ms/step - loss: 1.9969 - accuracy: 0.2781 - val_loss: 1.8156 - val_accuracy: 0.2792\n",
      "Epoch 8/300\n",
      "96/96 [==============================] - 1s 15ms/step - loss: 1.9444 - accuracy: 0.2885 - val_loss: 1.7768 - val_accuracy: 0.3167\n",
      "Epoch 9/300\n",
      "96/96 [==============================] - 1s 15ms/step - loss: 1.8655 - accuracy: 0.3292 - val_loss: 1.5333 - val_accuracy: 0.3875\n",
      "Epoch 10/300\n",
      "96/96 [==============================] - 1s 15ms/step - loss: 1.8356 - accuracy: 0.3344 - val_loss: 1.6105 - val_accuracy: 0.4167\n",
      "Epoch 11/300\n",
      "96/96 [==============================] - 1s 15ms/step - loss: 1.7620 - accuracy: 0.3313 - val_loss: 1.7092 - val_accuracy: 0.3958\n",
      "Epoch 12/300\n",
      "93/96 [============================>.] - ETA: 0s - loss: 1.7835 - accuracy: 0.3011\n",
      "Epoch 00012: ReduceLROnPlateau reducing learning rate to 0.0002500000118743628.\n",
      "96/96 [==============================] - 1s 15ms/step - loss: 1.7854 - accuracy: 0.3031 - val_loss: 1.6469 - val_accuracy: 0.3792\n",
      "Epoch 13/300\n",
      "96/96 [==============================] - 1s 15ms/step - loss: 1.7637 - accuracy: 0.3240 - val_loss: 1.5758 - val_accuracy: 0.3917\n",
      "Epoch 14/300\n",
      "93/96 [============================>.] - ETA: 0s - loss: 1.6824 - accuracy: 0.3462\n",
      "Epoch 00014: ReduceLROnPlateau reducing learning rate to 0.0001250000059371814.\n",
      "96/96 [==============================] - 1s 15ms/step - loss: 1.6943 - accuracy: 0.3417 - val_loss: 1.4584 - val_accuracy: 0.4042\n",
      "Epoch 15/300\n",
      "96/96 [==============================] - 1s 15ms/step - loss: 1.6741 - accuracy: 0.3635 - val_loss: 1.4107 - val_accuracy: 0.4500\n",
      "Epoch 16/300\n",
      "96/96 [==============================] - 1s 15ms/step - loss: 1.6947 - accuracy: 0.3448 - val_loss: 1.3977 - val_accuracy: 0.4833\n",
      "Epoch 17/300\n",
      "96/96 [==============================] - 1s 15ms/step - loss: 1.5866 - accuracy: 0.3865 - val_loss: 1.4689 - val_accuracy: 0.4250\n",
      "Epoch 18/300\n",
      "96/96 [==============================] - 1s 15ms/step - loss: 1.6340 - accuracy: 0.3469 - val_loss: 1.4038 - val_accuracy: 0.4875\n",
      "Epoch 19/300\n",
      "96/96 [==============================] - 1s 15ms/step - loss: 1.6444 - accuracy: 0.3469 - val_loss: 1.5165 - val_accuracy: 0.3917\n",
      "Epoch 20/300\n",
      "93/96 [============================>.] - ETA: 0s - loss: 1.6151 - accuracy: 0.3817\n",
      "Epoch 00020: ReduceLROnPlateau reducing learning rate to 6.25000029685907e-05.\n",
      "96/96 [==============================] - 1s 15ms/step - loss: 1.6125 - accuracy: 0.3802 - val_loss: 1.4766 - val_accuracy: 0.4500\n",
      "Epoch 21/300\n",
      "96/96 [==============================] - 1s 15ms/step - loss: 1.6184 - accuracy: 0.3906 - val_loss: 1.3676 - val_accuracy: 0.4833\n",
      "Epoch 22/300\n",
      "96/96 [==============================] - 1s 15ms/step - loss: 1.6286 - accuracy: 0.3875 - val_loss: 1.3439 - val_accuracy: 0.4917\n",
      "Epoch 23/300\n",
      "96/96 [==============================] - 1s 15ms/step - loss: 1.5599 - accuracy: 0.4125 - val_loss: 1.4136 - val_accuracy: 0.4708\n",
      "Epoch 24/300\n",
      "93/96 [============================>.] - ETA: 0s - loss: 1.5858 - accuracy: 0.3796\n",
      "Epoch 00024: ReduceLROnPlateau reducing learning rate to 3.125000148429535e-05.\n",
      "96/96 [==============================] - 1s 15ms/step - loss: 1.5999 - accuracy: 0.3760 - val_loss: 1.3499 - val_accuracy: 0.4833\n",
      "Epoch 25/300\n",
      "96/96 [==============================] - 1s 15ms/step - loss: 1.5624 - accuracy: 0.4010 - val_loss: 1.3537 - val_accuracy: 0.4792\n",
      "Epoch 26/300\n",
      "93/96 [============================>.] - ETA: 0s - loss: 1.6263 - accuracy: 0.3699\n",
      "Epoch 00026: ReduceLROnPlateau reducing learning rate to 1.5625000742147677e-05.\n",
      "96/96 [==============================] - 1s 15ms/step - loss: 1.6210 - accuracy: 0.3708 - val_loss: 1.3459 - val_accuracy: 0.4667\n",
      "Epoch 27/300\n",
      "96/96 [==============================] - 1s 15ms/step - loss: 1.5397 - accuracy: 0.4073 - val_loss: 1.3364 - val_accuracy: 0.4750\n",
      "Epoch 28/300\n",
      "93/96 [============================>.] - ETA: 0s - loss: 1.5107 - accuracy: 0.4151\n",
      "Epoch 00028: ReduceLROnPlateau reducing learning rate to 1e-05.\n",
      "96/96 [==============================] - 1s 15ms/step - loss: 1.5054 - accuracy: 0.4146 - val_loss: 1.3387 - val_accuracy: 0.4875\n",
      "Epoch 29/300\n",
      "96/96 [==============================] - 1s 15ms/step - loss: 1.5402 - accuracy: 0.4083 - val_loss: 1.3295 - val_accuracy: 0.4958\n",
      "Epoch 30/300\n",
      "96/96 [==============================] - 1s 15ms/step - loss: 1.5836 - accuracy: 0.3812 - val_loss: 1.3353 - val_accuracy: 0.4792\n",
      "Epoch 31/300\n",
      "96/96 [==============================] - 1s 15ms/step - loss: 1.5016 - accuracy: 0.4125 - val_loss: 1.3413 - val_accuracy: 0.4875\n",
      "Epoch 32/300\n",
      "96/96 [==============================] - 1s 15ms/step - loss: 1.5325 - accuracy: 0.4271 - val_loss: 1.3374 - val_accuracy: 0.5000\n",
      "Epoch 33/300\n",
      "96/96 [==============================] - 1s 15ms/step - loss: 1.5124 - accuracy: 0.4281 - val_loss: 1.3380 - val_accuracy: 0.5000\n",
      "Epoch 34/300\n",
      "96/96 [==============================] - 1s 15ms/step - loss: 1.5632 - accuracy: 0.3917 - val_loss: 1.3439 - val_accuracy: 0.4833\n",
      "Epoch 35/300\n",
      "96/96 [==============================] - 1s 15ms/step - loss: 1.5694 - accuracy: 0.3854 - val_loss: 1.3300 - val_accuracy: 0.4917\n",
      "Epoch 36/300\n",
      "96/96 [==============================] - 1s 15ms/step - loss: 1.5631 - accuracy: 0.4125 - val_loss: 1.3279 - val_accuracy: 0.4958\n",
      "Epoch 37/300\n",
      "96/96 [==============================] - 1s 15ms/step - loss: 1.5195 - accuracy: 0.4042 - val_loss: 1.3474 - val_accuracy: 0.4833\n",
      "Epoch 38/300\n",
      "96/96 [==============================] - 1s 15ms/step - loss: 1.5572 - accuracy: 0.3948 - val_loss: 1.3529 - val_accuracy: 0.4833\n",
      "Epoch 39/300\n",
      "96/96 [==============================] - 1s 15ms/step - loss: 1.5096 - accuracy: 0.4073 - val_loss: 1.3554 - val_accuracy: 0.5042\n",
      "Epoch 40/300\n",
      "96/96 [==============================] - 1s 15ms/step - loss: 1.5834 - accuracy: 0.3750 - val_loss: 1.3582 - val_accuracy: 0.4875\n",
      "Epoch 41/300\n",
      "96/96 [==============================] - 1s 15ms/step - loss: 1.5336 - accuracy: 0.4021 - val_loss: 1.3475 - val_accuracy: 0.4875\n",
      "Epoch 42/300\n",
      "96/96 [==============================] - 1s 15ms/step - loss: 1.5536 - accuracy: 0.3927 - val_loss: 1.3550 - val_accuracy: 0.4917\n",
      "Epoch 43/300\n",
      "96/96 [==============================] - 1s 15ms/step - loss: 1.5322 - accuracy: 0.4031 - val_loss: 1.3491 - val_accuracy: 0.4917\n",
      "Epoch 44/300\n",
      "96/96 [==============================] - 1s 15ms/step - loss: 1.5542 - accuracy: 0.3938 - val_loss: 1.3433 - val_accuracy: 0.5000\n",
      "Epoch 45/300\n",
      "96/96 [==============================] - 1s 15ms/step - loss: 1.5005 - accuracy: 0.4240 - val_loss: 1.3334 - val_accuracy: 0.5125\n",
      "Epoch 46/300\n",
      "96/96 [==============================] - 1s 15ms/step - loss: 1.4665 - accuracy: 0.4302 - val_loss: 1.3314 - val_accuracy: 0.5083\n"
     ]
    }
   ],
   "source": [
    "history = model.fit_generator(train_generator,\n",
    "                              epochs=300,\n",
    "                              validation_data=validation_generator,\n",
    "                              validation_steps=total_validate//batch_size,\n",
    "                              steps_per_epoch=total_train//batch_size,\n",
    "                              callbacks=[earlystop,learning_rate_reduction])"
   ]
  },
  {
   "cell_type": "code",
   "execution_count": 21,
   "metadata": {},
   "outputs": [
    {
     "name": "stdout",
     "output_type": "stream",
     "text": [
      "96/96 [==============================] - 1s 10ms/step - loss: 1.3597 - accuracy: 0.4896\n"
     ]
    },
    {
     "data": {
      "text/plain": [
       "[1.359655737876892, 0.4895833432674408]"
      ]
     },
     "execution_count": 21,
     "metadata": {},
     "output_type": "execute_result"
    }
   ],
   "source": [
    "model.evaluate(train_generator)"
   ]
  },
  {
   "cell_type": "code",
   "execution_count": 22,
   "metadata": {
    "scrolled": false
   },
   "outputs": [
    {
     "data": {
      "image/png": "[encoded data removed]",
      "text/plain": [
       "<Figure size 432x288 with 1 Axes>"
      ]
     },
     "metadata": {
      "needs_background": "light"
     },
     "output_type": "display_data"
    }
   ],
   "source": [
    "plt.plot(history.history['accuracy'])\n",
    "plt.plot(history.history['val_accuracy'])\n",
    "plt.legend(['training', 'validation'], loc = 'upper left')\n",
    "plt.show()"
   ]
  },
  {
   "cell_type": "code",
   "execution_count": 23,
   "metadata": {},
   "outputs": [],
   "source": [
    "# test data input"
   ]
  },
  {
   "cell_type": "code",
   "execution_count": 24,
   "metadata": {},
   "outputs": [],
   "source": [
    "face_cascade = cv2.CascadeClassifier('C:/ProgramData/Anaconda3/Lib/site-packages/cv2/data/haarcascade_frontalface_default.xml')\n",
    "eye_cascade = cv2.CascadeClassifier('C:/ProgramData/Anaconda3/Lib/site-packages/cv2/data/haarcascade_eye.xml')\n",
    "\n",
    "test_dir=os.listdir(\"test/\")\n",
    "for filename in test_dir:\n",
    "    img=cv2.imread(\"test/\"+filename)\n",
    "    faces = face_cascade.detectMultiScale(img, 1.3,5)\n",
    "    for (x,y,w,h) in faces:\n",
    "        cropped = img[y :y + h, x:x + w]\n",
    "        cv2.imwrite(\"test/face/\"+\"face.\"+filename, cropped)\n",
    "            "
   ]
  },
  {
   "cell_type": "code",
   "execution_count": 25,
   "metadata": {},
   "outputs": [],
   "source": [
    "test_face_dir=os.listdir(\"test/face/\")\n",
    "for filename in test_face_dir:\n",
    "    img=cv2.imread(\"test/face/\"+filename)\n",
    "    eyes = eye_cascade.detectMultiScale(img)\n",
    "    try: \n",
    "        for (ex,ey,ew,eh) in [eyes[0]]: # 사진의 왼쪽\n",
    "            dst = img[ey-int(eh*0.01):(ey+eh+int(eh*0.01)),ex-int(ew*0.1):(ex+ew+int(ew*0.1))]\n",
    "            cv2.imwrite(\"test/eyes/\"+\"eye_l.\"+filename,dst)\n",
    "\n",
    "        for (ex,ey,ew,eh) in [eyes[1]]: # 사진의 오른쪽\n",
    "            dst = img[ey-int(eh*0.01):(ey+eh+int(eh*0.01)),ex-int(ew*0.1):(ex+ew+int(ew*0.1))]\n",
    "            cv2.imwrite(\"test/eyes/\"+\"eye_r.\"+filename,dst)\n",
    "    except:\n",
    "        pass          "
   ]
  },
  {
   "cell_type": "code",
   "execution_count": 26,
   "metadata": {},
   "outputs": [
    {
     "name": "stdout",
     "output_type": "stream",
     "text": [
      "['eye_l.face.hanjimin.jpg', 'eye_l.face.hanyeseul.png', 'eye_l.face.kimyeona.jpg', 'eye_l.face.packchanwook.jpg', 'eye_r.face.hanjimin.jpg', 'eye_r.face.hanyeseul.png', 'eye_r.face.kimyeona.jpg', 'eye_r.face.packchanwook.jpg']\n"
     ]
    },
    {
     "data": {
      "text/html": [
       "<div>\n",
       "<style scoped>\n",
       "    .dataframe tbody tr th:only-of-type {\n",
       "        vertical-align: middle;\n",
       "    }\n",
       "\n",
       "    .dataframe tbody tr th {\n",
       "        vertical-align: top;\n",
       "    }\n",
       "\n",
       "    .dataframe thead th {\n",
       "        text-align: right;\n",
       "    }\n",
       "</style>\n",
       "<table border=\"1\" class=\"dataframe\">\n",
       "  <thead>\n",
       "    <tr style=\"text-align: right;\">\n",
       "      <th></th>\n",
       "      <th>filename</th>\n",
       "    </tr>\n",
       "  </thead>\n",
       "  <tbody>\n",
       "    <tr>\n",
       "      <th>0</th>\n",
       "      <td>eye_l.face.hanjimin.jpg</td>\n",
       "    </tr>\n",
       "    <tr>\n",
       "      <th>1</th>\n",
       "      <td>eye_l.face.hanyeseul.png</td>\n",
       "    </tr>\n",
       "    <tr>\n",
       "      <th>2</th>\n",
       "      <td>eye_l.face.kimyeona.jpg</td>\n",
       "    </tr>\n",
       "    <tr>\n",
       "      <th>3</th>\n",
       "      <td>eye_l.face.packchanwook.jpg</td>\n",
       "    </tr>\n",
       "    <tr>\n",
       "      <th>4</th>\n",
       "      <td>eye_r.face.hanjimin.jpg</td>\n",
       "    </tr>\n",
       "    <tr>\n",
       "      <th>5</th>\n",
       "      <td>eye_r.face.hanyeseul.png</td>\n",
       "    </tr>\n",
       "    <tr>\n",
       "      <th>6</th>\n",
       "      <td>eye_r.face.kimyeona.jpg</td>\n",
       "    </tr>\n",
       "    <tr>\n",
       "      <th>7</th>\n",
       "      <td>eye_r.face.packchanwook.jpg</td>\n",
       "    </tr>\n",
       "  </tbody>\n",
       "</table>\n",
       "</div>"
      ],
      "text/plain": [
       "                      filename\n",
       "0      eye_l.face.hanjimin.jpg\n",
       "1     eye_l.face.hanyeseul.png\n",
       "2      eye_l.face.kimyeona.jpg\n",
       "3  eye_l.face.packchanwook.jpg\n",
       "4      eye_r.face.hanjimin.jpg\n",
       "5     eye_r.face.hanyeseul.png\n",
       "6      eye_r.face.kimyeona.jpg\n",
       "7  eye_r.face.packchanwook.jpg"
      ]
     },
     "execution_count": 26,
     "metadata": {},
     "output_type": "execute_result"
    }
   ],
   "source": [
    "test_eyes_dir=os.listdir(\"test/eyes/\")\n",
    "print(test_eyes_dir)\n",
    "test_df = pd.DataFrame({'filename': test_eyes_dir})\n",
    "test_df"
   ]
  },
  {
   "cell_type": "code",
   "execution_count": 27,
   "metadata": {},
   "outputs": [],
   "source": [
    "nb_samples = test_df.shape[0]"
   ]
  },
  {
   "cell_type": "code",
   "execution_count": 28,
   "metadata": {},
   "outputs": [
    {
     "name": "stdout",
     "output_type": "stream",
     "text": [
      "Found 8 validated image filenames.\n"
     ]
    }
   ],
   "source": [
    "test_gen = ImageDataGenerator(rescale=1./255)\n",
    "\n",
    "test_generator = test_gen.flow_from_dataframe(test_df,\n",
    "                                              \"test/eyes/\",\n",
    "                                              x_col='filename',\n",
    "                                              y_col=None,\n",
    "                                              class_mode=None,\n",
    "                                              target_size=IMAGE_SIZE,\n",
    "                                              batch_size=batch_size,\n",
    "                                              shuffle=False)"
   ]
  },
  {
   "cell_type": "code",
   "execution_count": 29,
   "metadata": {},
   "outputs": [
    {
     "name": "stdout",
     "output_type": "stream",
     "text": [
      "WARNING:tensorflow:From <ipython-input-29-e9086dde4dfd>:1: Model.predict_generator (from tensorflow.python.keras.engine.training) is deprecated and will be removed in a future version.\n",
      "Instructions for updating:\n",
      "Please use Model.predict, which supports generators.\n"
     ]
    }
   ],
   "source": [
    "predict = model.predict_generator(test_generator,steps=np.ceil(nb_samples/batch_size))"
   ]
  },
  {
   "cell_type": "code",
   "execution_count": 30,
   "metadata": {},
   "outputs": [
    {
     "data": {
      "text/plain": [
       "array([[1.2706724e-01, 3.6900848e-01, 6.0022894e-02, 3.7614527e-01,\n",
       "        2.3938345e-02, 4.3817751e-02],\n",
       "       [4.0383253e-01, 9.5286138e-02, 4.6444837e-02, 3.5672113e-01,\n",
       "        5.4687914e-02, 4.3027502e-02],\n",
       "       [4.0621575e-02, 1.3353588e-01, 1.2267620e-01, 4.2095891e-01,\n",
       "        9.5404588e-02, 1.8680288e-01],\n",
       "       [8.2138349e-06, 3.7158217e-05, 1.0836251e-04, 9.9984586e-01,\n",
       "        5.4710192e-08, 3.5588465e-07],\n",
       "       [3.7063230e-02, 5.7151389e-01, 1.2959275e-01, 2.1891174e-01,\n",
       "        2.2172650e-02, 2.0745767e-02],\n",
       "       [2.7823013e-01, 1.3623877e-01, 8.3507009e-02, 3.7999666e-01,\n",
       "        5.4187831e-02, 6.7839608e-02],\n",
       "       [4.5385283e-01, 4.9386673e-02, 8.0319578e-03, 3.8067269e-01,\n",
       "        3.3329390e-02, 7.4726515e-02],\n",
       "       [9.1439918e-02, 1.8986993e-02, 8.9850253e-04, 7.6599211e-01,\n",
       "        1.6803088e-02, 1.0587937e-01]], dtype=float32)"
      ]
     },
     "execution_count": 30,
     "metadata": {},
     "output_type": "execute_result"
    }
   ],
   "source": [
    "predict"
   ]
  },
  {
   "cell_type": "code",
   "execution_count": 31,
   "metadata": {},
   "outputs": [],
   "source": [
    "test_df['category'] = np.argmax(predict, axis=-1)"
   ]
  },
  {
   "cell_type": "code",
   "execution_count": 32,
   "metadata": {},
   "outputs": [],
   "source": [
    "label_map = dict((v,k) for k,v in train_generator.class_indices.items())\n",
    "test_df['category'] = test_df['category'].replace(label_map)"
   ]
  },
  {
   "cell_type": "code",
   "execution_count": 33,
   "metadata": {},
   "outputs": [
    {
     "data": {
      "text/html": [
       "<div>\n",
       "<style scoped>\n",
       "    .dataframe tbody tr th:only-of-type {\n",
       "        vertical-align: middle;\n",
       "    }\n",
       "\n",
       "    .dataframe tbody tr th {\n",
       "        vertical-align: top;\n",
       "    }\n",
       "\n",
       "    .dataframe thead th {\n",
       "        text-align: right;\n",
       "    }\n",
       "</style>\n",
       "<table border=\"1\" class=\"dataframe\">\n",
       "  <thead>\n",
       "    <tr style=\"text-align: right;\">\n",
       "      <th></th>\n",
       "      <th>filename</th>\n",
       "      <th>category</th>\n",
       "    </tr>\n",
       "  </thead>\n",
       "  <tbody>\n",
       "    <tr>\n",
       "      <th>0</th>\n",
       "      <td>eye_l.face.hanjimin.jpg</td>\n",
       "      <td>horang</td>\n",
       "    </tr>\n",
       "    <tr>\n",
       "      <th>1</th>\n",
       "      <td>eye_l.face.hanyeseul.png</td>\n",
       "      <td>bonghwang</td>\n",
       "    </tr>\n",
       "    <tr>\n",
       "      <th>2</th>\n",
       "      <td>eye_l.face.kimyeona.jpg</td>\n",
       "      <td>horang</td>\n",
       "    </tr>\n",
       "    <tr>\n",
       "      <th>3</th>\n",
       "      <td>eye_l.face.packchanwook.jpg</td>\n",
       "      <td>horang</td>\n",
       "    </tr>\n",
       "    <tr>\n",
       "      <th>4</th>\n",
       "      <td>eye_r.face.hanjimin.jpg</td>\n",
       "      <td>dohwa</td>\n",
       "    </tr>\n",
       "    <tr>\n",
       "      <th>5</th>\n",
       "      <td>eye_r.face.hanyeseul.png</td>\n",
       "      <td>horang</td>\n",
       "    </tr>\n",
       "    <tr>\n",
       "      <th>6</th>\n",
       "      <td>eye_r.face.kimyeona.jpg</td>\n",
       "      <td>bonghwang</td>\n",
       "    </tr>\n",
       "    <tr>\n",
       "      <th>7</th>\n",
       "      <td>eye_r.face.packchanwook.jpg</td>\n",
       "      <td>horang</td>\n",
       "    </tr>\n",
       "  </tbody>\n",
       "</table>\n",
       "</div>"
      ],
      "text/plain": [
       "                      filename   category\n",
       "0      eye_l.face.hanjimin.jpg     horang\n",
       "1     eye_l.face.hanyeseul.png  bonghwang\n",
       "2      eye_l.face.kimyeona.jpg     horang\n",
       "3  eye_l.face.packchanwook.jpg     horang\n",
       "4      eye_r.face.hanjimin.jpg      dohwa\n",
       "5     eye_r.face.hanyeseul.png     horang\n",
       "6      eye_r.face.kimyeona.jpg  bonghwang\n",
       "7  eye_r.face.packchanwook.jpg     horang"
      ]
     },
     "execution_count": 33,
     "metadata": {},
     "output_type": "execute_result"
    }
   ],
   "source": [
    "test_df"
   ]
  },
  {
   "cell_type": "code",
   "execution_count": null,
   "metadata": {},
   "outputs": [],
   "source": []
  },
  {
   "cell_type": "code",
   "execution_count": null,
   "metadata": {},
   "outputs": [],
   "source": []
  }
 ],
 "metadata": {
  "kernelspec": {
   "display_name": "Python 3",
   "language": "python",
   "name": "python3"
  },
  "language_info": {
   "codemirror_mode": {
    "name": "ipython",
    "version": 3
   },
   "file_extension": ".py",
   "mimetype": "text/x-python",
   "name": "python",
   "nbconvert_exporter": "python",
   "pygments_lexer": "ipython3",
   "version": "3.8.3"
  }
 },
 "nbformat": 4,
 "nbformat_minor": 4
}

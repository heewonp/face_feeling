{
 "cells": [
  {
   "cell_type": "code",
   "execution_count": 16,
   "metadata": {
    "scrolled": true
   },
   "outputs": [],
   "source": [
    "import numpy as np\n",
    "import pandas as pd \n",
    "from keras.preprocessing.image import ImageDataGenerator, load_img, img_to_array\n",
    "from keras.utils import to_categorical\n",
    "from sklearn.model_selection import train_test_split\n",
    "import matplotlib.pyplot as plt\n",
    "import random\n",
    "import os\n",
    "from tensorflow.keras.models import load_model"
   ]
  },
  {
   "cell_type": "code",
   "execution_count": 2,
   "metadata": {},
   "outputs": [],
   "source": [
    "IMAGE_WIDTH=150\n",
    "IMAGE_HEIGHT=50\n",
    "IMAGE_SIZE=(IMAGE_WIDTH, IMAGE_HEIGHT)\n",
    "IMAGE_CHANNELS = 3 # color or gray\n",
    "batch_size= 20"
   ]
  },
  {
   "cell_type": "code",
   "execution_count": 3,
   "metadata": {},
   "outputs": [],
   "source": [
    "# IMAGE_WIDTH=80\n",
    "# IMAGE_HEIGHT=24\n",
    "# IMAGE_SIZE=(IMAGE_WIDTH, IMAGE_HEIGHT)\n",
    "# IMAGE_CHANNELS = 3 # color or gray\n",
    "# # batch_size= 10"
   ]
  },
  {
   "cell_type": "code",
   "execution_count": 4,
   "metadata": {},
   "outputs": [],
   "source": [
    "categories=[]\n",
    "train_dir=os.listdir(\"eyes_test_real/eyes_test_origin/total_augmented\")\n",
    "for filename in train_dir:\n",
    "    category=filename.split(' ')[0]\n",
    "    if category == 'bonghwang':\n",
    "        categories.append('bonghwang')\n",
    "    if category == 'dohwa':\n",
    "        categories.append('dohwa')\n",
    "    if category == 'gongjak':\n",
    "        categories.append('gongjak')\n",
    "    if category == 'horang':\n",
    "        categories.append('horang')\n",
    "    if category == 'so':\n",
    "        categories.append('so')\n",
    "    if category == 'yong':\n",
    "        categories.append('yong')"
   ]
  },
  {
   "cell_type": "code",
   "execution_count": 5,
   "metadata": {},
   "outputs": [
    {
     "data": {
      "text/html": [
       "<div>\n",
       "<style scoped>\n",
       "    .dataframe tbody tr th:only-of-type {\n",
       "        vertical-align: middle;\n",
       "    }\n",
       "\n",
       "    .dataframe tbody tr th {\n",
       "        vertical-align: top;\n",
       "    }\n",
       "\n",
       "    .dataframe thead th {\n",
       "        text-align: right;\n",
       "    }\n",
       "</style>\n",
       "<table border=\"1\" class=\"dataframe\">\n",
       "  <thead>\n",
       "    <tr style=\"text-align: right;\">\n",
       "      <th></th>\n",
       "      <th>filename</th>\n",
       "      <th>category</th>\n",
       "    </tr>\n",
       "  </thead>\n",
       "  <tbody>\n",
       "    <tr>\n",
       "      <th>0</th>\n",
       "      <td>bonghwang 100_0.jpg</td>\n",
       "      <td>bonghwang</td>\n",
       "    </tr>\n",
       "    <tr>\n",
       "      <th>1</th>\n",
       "      <td>bonghwang 100_1.jpg</td>\n",
       "      <td>bonghwang</td>\n",
       "    </tr>\n",
       "    <tr>\n",
       "      <th>2</th>\n",
       "      <td>bonghwang 100_10.jpg</td>\n",
       "      <td>bonghwang</td>\n",
       "    </tr>\n",
       "    <tr>\n",
       "      <th>3</th>\n",
       "      <td>bonghwang 100_11.jpg</td>\n",
       "      <td>bonghwang</td>\n",
       "    </tr>\n",
       "    <tr>\n",
       "      <th>4</th>\n",
       "      <td>bonghwang 100_12.jpg</td>\n",
       "      <td>bonghwang</td>\n",
       "    </tr>\n",
       "    <tr>\n",
       "      <th>...</th>\n",
       "      <td>...</td>\n",
       "      <td>...</td>\n",
       "    </tr>\n",
       "    <tr>\n",
       "      <th>35315</th>\n",
       "      <td>yong 9_5.jpg</td>\n",
       "      <td>yong</td>\n",
       "    </tr>\n",
       "    <tr>\n",
       "      <th>35316</th>\n",
       "      <td>yong 9_6.jpg</td>\n",
       "      <td>yong</td>\n",
       "    </tr>\n",
       "    <tr>\n",
       "      <th>35317</th>\n",
       "      <td>yong 9_7.jpg</td>\n",
       "      <td>yong</td>\n",
       "    </tr>\n",
       "    <tr>\n",
       "      <th>35318</th>\n",
       "      <td>yong 9_8.jpg</td>\n",
       "      <td>yong</td>\n",
       "    </tr>\n",
       "    <tr>\n",
       "      <th>35319</th>\n",
       "      <td>yong 9_9.jpg</td>\n",
       "      <td>yong</td>\n",
       "    </tr>\n",
       "  </tbody>\n",
       "</table>\n",
       "<p>35320 rows × 2 columns</p>\n",
       "</div>"
      ],
      "text/plain": [
       "                   filename   category\n",
       "0       bonghwang 100_0.jpg  bonghwang\n",
       "1       bonghwang 100_1.jpg  bonghwang\n",
       "2      bonghwang 100_10.jpg  bonghwang\n",
       "3      bonghwang 100_11.jpg  bonghwang\n",
       "4      bonghwang 100_12.jpg  bonghwang\n",
       "...                     ...        ...\n",
       "35315          yong 9_5.jpg       yong\n",
       "35316          yong 9_6.jpg       yong\n",
       "35317          yong 9_7.jpg       yong\n",
       "35318          yong 9_8.jpg       yong\n",
       "35319          yong 9_9.jpg       yong\n",
       "\n",
       "[35320 rows x 2 columns]"
      ]
     },
     "execution_count": 5,
     "metadata": {},
     "output_type": "execute_result"
    }
   ],
   "source": [
    "df=pd.DataFrame({'filename':train_dir,'category':categories})\n",
    "df"
   ]
  },
  {
   "cell_type": "code",
   "execution_count": 6,
   "metadata": {},
   "outputs": [],
   "source": [
    "train_df, validate_df = train_test_split(df, test_size=0.20, random_state=777)\n",
    "train_df = train_df.reset_index(drop=True)\n",
    "validate_df = validate_df.reset_index(drop=True)"
   ]
  },
  {
   "cell_type": "code",
   "execution_count": 7,
   "metadata": {},
   "outputs": [
    {
     "data": {
      "text/plain": [
       "<matplotlib.axes._subplots.AxesSubplot at 0x2046e9cae88>"
      ]
     },
     "execution_count": 7,
     "metadata": {},
     "output_type": "execute_result"
    },
    {
     "data": {
      "image/png": "[encoded data removed]",
      "text/plain": [
       "<Figure size 432x288 with 1 Axes>"
      ]
     },
     "metadata": {
      "needs_background": "light"
     },
     "output_type": "display_data"
    }
   ],
   "source": [
    "train_df['category'].value_counts().plot.bar()"
   ]
  },
  {
   "cell_type": "code",
   "execution_count": 8,
   "metadata": {},
   "outputs": [
    {
     "data": {
      "text/plain": [
       "<matplotlib.axes._subplots.AxesSubplot at 0x2046f11fdc8>"
      ]
     },
     "execution_count": 8,
     "metadata": {},
     "output_type": "execute_result"
    },
    {
     "data": {
      "image/png": "[encoded data removed]",
      "text/plain": [
       "<Figure size 432x288 with 1 Axes>"
      ]
     },
     "metadata": {
      "needs_background": "light"
     },
     "output_type": "display_data"
    }
   ],
   "source": [
    "validate_df['category'].value_counts().plot.bar()"
   ]
  },
  {
   "cell_type": "code",
   "execution_count": 9,
   "metadata": {},
   "outputs": [],
   "source": [
    "total_train = train_df.shape[0]\n",
    "total_validate = validate_df.shape[0]\n"
   ]
  },
  {
   "cell_type": "code",
   "execution_count": 10,
   "metadata": {},
   "outputs": [],
   "source": [
    "train_datagen = ImageDataGenerator(rescale=1./255)"
   ]
  },
  {
   "cell_type": "code",
   "execution_count": 11,
   "metadata": {},
   "outputs": [
    {
     "name": "stdout",
     "output_type": "stream",
     "text": [
      "Found 28256 validated image filenames belonging to 6 classes.\n"
     ]
    }
   ],
   "source": [
    "train_generator=train_datagen.flow_from_dataframe(train_df,\n",
    "                                 'eyes_test_real/eyes_test_origin/total_augmented',\n",
    "                                 x_col='filename',\n",
    "                                 y_col='category',\n",
    "                                  target_size=IMAGE_SIZE,\n",
    "                                  class_mode='categorical',\n",
    "                                  batch_size=batch_size\n",
    "                                 )"
   ]
  },
  {
   "cell_type": "code",
   "execution_count": 12,
   "metadata": {},
   "outputs": [
    {
     "name": "stdout",
     "output_type": "stream",
     "text": [
      "Found 7064 validated image filenames belonging to 6 classes.\n"
     ]
    }
   ],
   "source": [
    "validation_datagen = ImageDataGenerator(rescale=1./255)\n",
    "\n",
    "validation_generator = validation_datagen.flow_from_dataframe(validate_df,\n",
    "                                                              \"eyes_test_real/eyes_test_origin/total_augmented\",\n",
    "                                                              x_col='filename',\n",
    "                                                              y_col='category',\n",
    "                                                              target_size=IMAGE_SIZE,\n",
    "                                                              class_mode='categorical',\n",
    "                                                              batch_size=batch_size)"
   ]
  },
  {
   "cell_type": "code",
   "execution_count": 13,
   "metadata": {},
   "outputs": [],
   "source": [
    "from keras.models import Sequential\n",
    "from keras.layers import *"
   ]
  },
  {
   "cell_type": "code",
   "execution_count": 14,
   "metadata": {
    "scrolled": true
   },
   "outputs": [
    {
     "name": "stdout",
     "output_type": "stream",
     "text": [
      "Model: \"sequential\"\n",
      "_________________________________________________________________\n",
      "Layer (type)                 Output Shape              Param #   \n",
      "=================================================================\n",
      "conv2d (Conv2D)              (None, 148, 48, 32)       896       \n",
      "_________________________________________________________________\n",
      "batch_normalization (BatchNo (None, 148, 48, 32)       128       \n",
      "_________________________________________________________________\n",
      "max_pooling2d (MaxPooling2D) (None, 74, 24, 32)        0         \n",
      "_________________________________________________________________\n",
      "dropout (Dropout)            (None, 74, 24, 32)        0         \n",
      "_________________________________________________________________\n",
      "conv2d_1 (Conv2D)            (None, 72, 22, 64)        18496     \n",
      "_________________________________________________________________\n",
      "batch_normalization_1 (Batch (None, 72, 22, 64)        256       \n",
      "_________________________________________________________________\n",
      "max_pooling2d_1 (MaxPooling2 (None, 36, 11, 64)        0         \n",
      "_________________________________________________________________\n",
      "dropout_1 (Dropout)          (None, 36, 11, 64)        0         \n",
      "_________________________________________________________________\n",
      "conv2d_2 (Conv2D)            (None, 34, 9, 128)        73856     \n",
      "_________________________________________________________________\n",
      "batch_normalization_2 (Batch (None, 34, 9, 128)        512       \n",
      "_________________________________________________________________\n",
      "max_pooling2d_2 (MaxPooling2 (None, 17, 4, 128)        0         \n",
      "_________________________________________________________________\n",
      "dropout_2 (Dropout)          (None, 17, 4, 128)        0         \n",
      "_________________________________________________________________\n",
      "flatten (Flatten)            (None, 8704)              0         \n",
      "_________________________________________________________________\n",
      "dense (Dense)                (None, 512)               4456960   \n",
      "_________________________________________________________________\n",
      "batch_normalization_3 (Batch (None, 512)               2048      \n",
      "_________________________________________________________________\n",
      "dropout_3 (Dropout)          (None, 512)               0         \n",
      "_________________________________________________________________\n",
      "dense_1 (Dense)              (None, 6)                 3078      \n",
      "=================================================================\n",
      "Total params: 4,556,230\n",
      "Trainable params: 4,554,758\n",
      "Non-trainable params: 1,472\n",
      "_________________________________________________________________\n"
     ]
    }
   ],
   "source": [
    "model = Sequential()\n",
    "model.add(Conv2D(32, (3, 3), activation='relu', input_shape=(IMAGE_WIDTH, IMAGE_HEIGHT, IMAGE_CHANNELS)))\n",
    "model.add(BatchNormalization())\n",
    "model.add(MaxPooling2D(pool_size=(2, 2)))\n",
    "model.add(Dropout(0.25))\n",
    "model.add(Conv2D(64, (3, 3), activation='relu'))\n",
    "model.add(BatchNormalization())\n",
    "model.add(MaxPooling2D(pool_size=(2, 2)))\n",
    "model.add(Dropout(0.25))\n",
    "model.add(Conv2D(128, (3, 3), activation='relu'))\n",
    "model.add(BatchNormalization())\n",
    "model.add(MaxPooling2D(pool_size=(2, 2)))\n",
    "model.add(Dropout(0.25))\n",
    "model.add(Flatten())\n",
    "model.add(Dense(512, activation='relu'))\n",
    "model.add(BatchNormalization())\n",
    "model.add(Dropout(0.5))\n",
    "model.add(Dense(6, activation='softmax')) \n",
    "model.compile(loss='categorical_crossentropy', optimizer='adam', metrics=['acc'])\n",
    "model.summary()"
   ]
  },
  {
   "cell_type": "code",
   "execution_count": 17,
   "metadata": {},
   "outputs": [],
   "source": [
    "from keras.callbacks import EarlyStopping, ReduceLROnPlateau"
   ]
  },
  {
   "cell_type": "code",
   "execution_count": 18,
   "metadata": {},
   "outputs": [],
   "source": [
    "earlystop = EarlyStopping(patience=5),\n",
    "learning_rate_reduction = ReduceLROnPlateau(monitor='val_acc',\n",
    "                                           patience=2,\n",
    "                                           verbose=1,\n",
    "                                            factor=0.5,\n",
    "                                            min_lr=0.00001)"
   ]
  },
  {
   "cell_type": "code",
   "execution_count": 19,
   "metadata": {
    "scrolled": true
   },
   "outputs": [
    {
     "name": "stdout",
     "output_type": "stream",
     "text": [
      "WARNING:tensorflow:From <ipython-input-19-6264a3338fa2>:6: Model.fit_generator (from tensorflow.python.keras.engine.training) is deprecated and will be removed in a future version.\n",
      "Instructions for updating:\n",
      "Please use Model.fit, which supports generators.\n",
      "Epoch 1/40\n",
      "1412/1412 [==============================] - 298s 211ms/step - loss: 1.8876 - acc: 0.2944 - val_loss: 1.8260 - val_acc: 0.3146\n",
      "Epoch 2/40\n",
      "1412/1412 [==============================] - 297s 210ms/step - loss: 1.4306 - acc: 0.4284 - val_loss: 1.5557 - val_acc: 0.3603\n",
      "Epoch 3/40\n",
      "1412/1412 [==============================] - 301s 213ms/step - loss: 1.2050 - acc: 0.5299 - val_loss: 1.3629 - val_acc: 0.4758\n",
      "Epoch 4/40\n",
      "1412/1412 [==============================] - 307s 218ms/step - loss: 1.0552 - acc: 0.5963 - val_loss: 1.0088 - val_acc: 0.6244\n",
      "Epoch 5/40\n",
      "1412/1412 [==============================] - 293s 208ms/step - loss: 0.9834 - acc: 0.6265 - val_loss: 1.0574 - val_acc: 0.6035\n",
      "Epoch 6/40\n",
      "1412/1412 [==============================] - ETA: 0s - loss: 0.9213 - acc: 0.6540\n",
      "Epoch 00006: ReduceLROnPlateau reducing learning rate to 0.0005000000237487257.\n",
      "1412/1412 [==============================] - 297s 210ms/step - loss: 0.9213 - acc: 0.6540 - val_loss: 1.1608 - val_acc: 0.5548\n",
      "Epoch 7/40\n",
      "1412/1412 [==============================] - 294s 208ms/step - loss: 0.6832 - acc: 0.7455 - val_loss: 0.4678 - val_acc: 0.8367\n",
      "Epoch 8/40\n",
      "1412/1412 [==============================] - 300s 212ms/step - loss: 0.5888 - acc: 0.7804 - val_loss: 0.6164 - val_acc: 0.7771\n",
      "Epoch 9/40\n",
      "1412/1412 [==============================] - ETA: 0s - loss: 0.5468 - acc: 0.8000\n",
      "Epoch 00009: ReduceLROnPlateau reducing learning rate to 0.0002500000118743628.\n",
      "1412/1412 [==============================] - 322s 228ms/step - loss: 0.5468 - acc: 0.8000 - val_loss: 0.5099 - val_acc: 0.8180\n",
      "Epoch 10/40\n",
      "1412/1412 [==============================] - 323s 229ms/step - loss: 0.4557 - acc: 0.8333 - val_loss: 0.3202 - val_acc: 0.8898\n",
      "Epoch 11/40\n",
      "1412/1412 [==============================] - 330s 234ms/step - loss: 0.4093 - acc: 0.8516 - val_loss: 0.2895 - val_acc: 0.9034\n",
      "Epoch 12/40\n",
      "1412/1412 [==============================] - 314s 222ms/step - loss: 0.3824 - acc: 0.8646 - val_loss: 0.2656 - val_acc: 0.9143\n",
      "Epoch 13/40\n",
      "1412/1412 [==============================] - 313s 222ms/step - loss: 0.3618 - acc: 0.8725 - val_loss: 0.2610 - val_acc: 0.9127\n",
      "Epoch 14/40\n",
      "1412/1412 [==============================] - 327s 232ms/step - loss: 0.3405 - acc: 0.8815 - val_loss: 0.2273 - val_acc: 0.9258\n",
      "Epoch 15/40\n",
      "1412/1412 [==============================] - 332s 235ms/step - loss: 0.3322 - acc: 0.8810 - val_loss: 0.4367 - val_acc: 0.8455\n",
      "Epoch 16/40\n",
      "1412/1412 [==============================] - 319s 226ms/step - loss: 0.3056 - acc: 0.8917 - val_loss: 0.2049 - val_acc: 0.9319\n",
      "Epoch 17/40\n",
      "1412/1412 [==============================] - 298s 211ms/step - loss: 0.3050 - acc: 0.8917 - val_loss: 0.2437 - val_acc: 0.9171\n",
      "Epoch 18/40\n",
      "1412/1412 [==============================] - 306s 216ms/step - loss: 0.2743 - acc: 0.9004 - val_loss: 0.1849 - val_acc: 0.9419\n",
      "Epoch 19/40\n",
      "1412/1412 [==============================] - 296s 210ms/step - loss: 0.2613 - acc: 0.9067 - val_loss: 0.1908 - val_acc: 0.9380\n",
      "Epoch 20/40\n",
      "1412/1412 [==============================] - ETA: 0s - loss: 0.2630 - acc: 0.9071\n",
      "Epoch 00020: ReduceLROnPlateau reducing learning rate to 0.0001250000059371814.\n",
      "1412/1412 [==============================] - 296s 210ms/step - loss: 0.2630 - acc: 0.9071 - val_loss: 0.1889 - val_acc: 0.9388\n",
      "Epoch 21/40\n",
      "1412/1412 [==============================] - 297s 210ms/step - loss: 0.2279 - acc: 0.9188 - val_loss: 0.1651 - val_acc: 0.9460\n",
      "Epoch 22/40\n",
      "1412/1412 [==============================] - 298s 211ms/step - loss: 0.2151 - acc: 0.9251 - val_loss: 0.1738 - val_acc: 0.9418\n",
      "Epoch 23/40\n",
      "1412/1412 [==============================] - ETA: 0s - loss: 0.2003 - acc: 0.9271\n",
      "Epoch 00023: ReduceLROnPlateau reducing learning rate to 6.25000029685907e-05.\n",
      "1412/1412 [==============================] - 291s 206ms/step - loss: 0.2003 - acc: 0.9271 - val_loss: 0.1735 - val_acc: 0.9431\n",
      "Epoch 24/40\n",
      "1412/1412 [==============================] - 294s 208ms/step - loss: 0.1848 - acc: 0.9359 - val_loss: 0.1553 - val_acc: 0.9489\n",
      "Epoch 25/40\n",
      "1412/1412 [==============================] - 289s 205ms/step - loss: 0.1908 - acc: 0.9327 - val_loss: 0.1476 - val_acc: 0.9517\n",
      "Epoch 26/40\n",
      "1412/1412 [==============================] - 290s 206ms/step - loss: 0.1823 - acc: 0.9359 - val_loss: 0.1458 - val_acc: 0.9531\n",
      "Epoch 27/40\n",
      "1412/1412 [==============================] - 290s 205ms/step - loss: 0.1835 - acc: 0.9353 - val_loss: 0.1432 - val_acc: 0.9554\n",
      "Epoch 28/40\n",
      "1412/1412 [==============================] - 290s 205ms/step - loss: 0.1694 - acc: 0.9416 - val_loss: 0.1416 - val_acc: 0.9548\n",
      "Epoch 29/40\n",
      "1412/1412 [==============================] - ETA: 0s - loss: 0.1697 - acc: 0.9409\n",
      "Epoch 00029: ReduceLROnPlateau reducing learning rate to 3.125000148429535e-05.\n",
      "1412/1412 [==============================] - 289s 205ms/step - loss: 0.1697 - acc: 0.9409 - val_loss: 0.1527 - val_acc: 0.9518\n",
      "Epoch 30/40\n",
      "1412/1412 [==============================] - 289s 205ms/step - loss: 0.1675 - acc: 0.9413 - val_loss: 0.1425 - val_acc: 0.9551\n",
      "Epoch 31/40\n",
      "1412/1412 [==============================] - 290s 205ms/step - loss: 0.1597 - acc: 0.9429 - val_loss: 0.1294 - val_acc: 0.9605\n",
      "Epoch 32/40\n",
      "1412/1412 [==============================] - 289s 205ms/step - loss: 0.1561 - acc: 0.9441 - val_loss: 0.1436 - val_acc: 0.9548\n",
      "Epoch 33/40\n",
      "1412/1412 [==============================] - ETA: 0s - loss: 0.1589 - acc: 0.9463\n",
      "Epoch 00033: ReduceLROnPlateau reducing learning rate to 1.5625000742147677e-05.\n",
      "1412/1412 [==============================] - 289s 205ms/step - loss: 0.1589 - acc: 0.9463 - val_loss: 0.1283 - val_acc: 0.9589\n",
      "Epoch 34/40\n",
      "1412/1412 [==============================] - 289s 205ms/step - loss: 0.1535 - acc: 0.9462 - val_loss: 0.1316 - val_acc: 0.9581\n",
      "Epoch 35/40\n",
      "1412/1412 [==============================] - ETA: 0s - loss: 0.1509 - acc: 0.9471\n",
      "Epoch 00035: ReduceLROnPlateau reducing learning rate to 1e-05.\n",
      "1412/1412 [==============================] - 289s 205ms/step - loss: 0.1509 - acc: 0.9471 - val_loss: 0.1256 - val_acc: 0.9595\n",
      "Epoch 36/40\n",
      "1412/1412 [==============================] - 289s 205ms/step - loss: 0.1523 - acc: 0.9484 - val_loss: 0.1258 - val_acc: 0.9595\n",
      "Epoch 37/40\n",
      "1412/1412 [==============================] - 290s 205ms/step - loss: 0.1563 - acc: 0.9458 - val_loss: 0.1315 - val_acc: 0.9596\n",
      "Epoch 38/40\n",
      "1412/1412 [==============================] - 289s 205ms/step - loss: 0.1534 - acc: 0.9460 - val_loss: 0.1313 - val_acc: 0.9605\n",
      "Epoch 39/40\n",
      "1412/1412 [==============================] - 289s 205ms/step - loss: 0.1493 - acc: 0.9470 - val_loss: 0.1241 - val_acc: 0.9601\n",
      "Epoch 40/40\n",
      "1412/1412 [==============================] - 288s 204ms/step - loss: 0.1520 - acc: 0.9462 - val_loss: 0.1302 - val_acc: 0.9592\n"
     ]
    }
   ],
   "source": [
    "history = model.fit_generator(train_generator,\n",
    "                              epochs=40,\n",
    "                              validation_data=validation_generator,\n",
    "                              validation_steps=total_validate//batch_size,\n",
    "                              steps_per_epoch=total_train//batch_size,\n",
    "                              callbacks=[earlystop,learning_rate_reduction])"
   ]
  },
  {
   "cell_type": "code",
   "execution_count": 20,
   "metadata": {},
   "outputs": [
    {
     "data": {
      "image/png": "[encoded data removed]",
      "text/plain": [
       "<Figure size 432x288 with 1 Axes>"
      ]
     },
     "metadata": {
      "needs_background": "light"
     },
     "output_type": "display_data"
    }
   ],
   "source": [
    "plt.plot(history.history['acc'])\n",
    "plt.plot(history.history['val_acc'])\n",
    "plt.legend(['training', 'validation'], loc = 'upper left')\n",
    "plt.show()"
   ]
  },
  {
   "cell_type": "code",
   "execution_count": 21,
   "metadata": {},
   "outputs": [
    {
     "name": "stdout",
     "output_type": "stream",
     "text": [
      "1413/1413 [==============================] - 40s 28ms/step - loss: 0.0129 - acc: 0.9989\n"
     ]
    },
    {
     "data": {
      "text/plain": [
       "[0.012903915718197823, 0.9988675117492676]"
      ]
     },
     "execution_count": 21,
     "metadata": {},
     "output_type": "execute_result"
    }
   ],
   "source": [
    "model.evaluate(train_generator)"
   ]
  },
  {
   "cell_type": "code",
   "execution_count": 22,
   "metadata": {},
   "outputs": [],
   "source": [
    "model.save(\"model_real_new_auged_final.h5\")"
   ]
  },
  {
   "cell_type": "code",
   "execution_count": 23,
   "metadata": {},
   "outputs": [],
   "source": [
    "loaded_model = load_model('model_real_new_auged.h5')"
   ]
  },
  {
   "cell_type": "markdown",
   "metadata": {},
   "source": [
    "## pretrained model을 통한 예측"
   ]
  },
  {
   "cell_type": "markdown",
   "metadata": {},
   "source": [
    "### 테스트"
   ]
  },
  {
   "cell_type": "code",
   "execution_count": 24,
   "metadata": {},
   "outputs": [],
   "source": [
    "categories=[]\n",
    "train_dir=os.listdir(\"eyes_test_real/eyes_test_real_test\")\n",
    "for filename in train_dir:\n",
    "    category=filename.split(' ')[0]\n",
    "    if category == 'bonghwang':\n",
    "        categories.append('bonghwang')\n",
    "    if category == 'dohwa':\n",
    "        categories.append('dohwa')\n",
    "    if category == 'gongjak':\n",
    "        categories.append('gongjak')\n",
    "    if category == 'horang':\n",
    "        categories.append('horang')\n",
    "    if category == 'so':\n",
    "        categories.append('so')\n",
    "    if category == 'yong':\n",
    "        categories.append('yong')"
   ]
  },
  {
   "cell_type": "code",
   "execution_count": 25,
   "metadata": {
    "scrolled": true
   },
   "outputs": [
    {
     "data": {
      "text/html": [
       "<div>\n",
       "<style scoped>\n",
       "    .dataframe tbody tr th:only-of-type {\n",
       "        vertical-align: middle;\n",
       "    }\n",
       "\n",
       "    .dataframe tbody tr th {\n",
       "        vertical-align: top;\n",
       "    }\n",
       "\n",
       "    .dataframe thead th {\n",
       "        text-align: right;\n",
       "    }\n",
       "</style>\n",
       "<table border=\"1\" class=\"dataframe\">\n",
       "  <thead>\n",
       "    <tr style=\"text-align: right;\">\n",
       "      <th></th>\n",
       "      <th>filename</th>\n",
       "      <th>category</th>\n",
       "    </tr>\n",
       "  </thead>\n",
       "  <tbody>\n",
       "    <tr>\n",
       "      <th>0</th>\n",
       "      <td>bonghwang (1).JPG</td>\n",
       "      <td>bonghwang</td>\n",
       "    </tr>\n",
       "    <tr>\n",
       "      <th>1</th>\n",
       "      <td>bonghwang (10).JPG</td>\n",
       "      <td>bonghwang</td>\n",
       "    </tr>\n",
       "    <tr>\n",
       "      <th>2</th>\n",
       "      <td>bonghwang (11).JPG</td>\n",
       "      <td>bonghwang</td>\n",
       "    </tr>\n",
       "    <tr>\n",
       "      <th>3</th>\n",
       "      <td>bonghwang (12).JPG</td>\n",
       "      <td>bonghwang</td>\n",
       "    </tr>\n",
       "    <tr>\n",
       "      <th>4</th>\n",
       "      <td>bonghwang (13).jpg</td>\n",
       "      <td>bonghwang</td>\n",
       "    </tr>\n",
       "    <tr>\n",
       "      <th>5</th>\n",
       "      <td>bonghwang (2).JPG</td>\n",
       "      <td>bonghwang</td>\n",
       "    </tr>\n",
       "    <tr>\n",
       "      <th>6</th>\n",
       "      <td>bonghwang (3).JPG</td>\n",
       "      <td>bonghwang</td>\n",
       "    </tr>\n",
       "    <tr>\n",
       "      <th>7</th>\n",
       "      <td>bonghwang (4).JPG</td>\n",
       "      <td>bonghwang</td>\n",
       "    </tr>\n",
       "    <tr>\n",
       "      <th>8</th>\n",
       "      <td>bonghwang (5).JPG</td>\n",
       "      <td>bonghwang</td>\n",
       "    </tr>\n",
       "    <tr>\n",
       "      <th>9</th>\n",
       "      <td>bonghwang (6).JPG</td>\n",
       "      <td>bonghwang</td>\n",
       "    </tr>\n",
       "    <tr>\n",
       "      <th>10</th>\n",
       "      <td>bonghwang (7).JPG</td>\n",
       "      <td>bonghwang</td>\n",
       "    </tr>\n",
       "    <tr>\n",
       "      <th>11</th>\n",
       "      <td>bonghwang (8).JPG</td>\n",
       "      <td>bonghwang</td>\n",
       "    </tr>\n",
       "    <tr>\n",
       "      <th>12</th>\n",
       "      <td>bonghwang (9).JPG</td>\n",
       "      <td>bonghwang</td>\n",
       "    </tr>\n",
       "    <tr>\n",
       "      <th>13</th>\n",
       "      <td>bonghwang dongjae_L.JPG</td>\n",
       "      <td>bonghwang</td>\n",
       "    </tr>\n",
       "    <tr>\n",
       "      <th>14</th>\n",
       "      <td>bonghwang dongjae_R.JPG</td>\n",
       "      <td>bonghwang</td>\n",
       "    </tr>\n",
       "    <tr>\n",
       "      <th>15</th>\n",
       "      <td>dohwa (1).jpg</td>\n",
       "      <td>dohwa</td>\n",
       "    </tr>\n",
       "    <tr>\n",
       "      <th>16</th>\n",
       "      <td>dohwa (2).jpg</td>\n",
       "      <td>dohwa</td>\n",
       "    </tr>\n",
       "    <tr>\n",
       "      <th>17</th>\n",
       "      <td>dohwa (3).jpg</td>\n",
       "      <td>dohwa</td>\n",
       "    </tr>\n",
       "    <tr>\n",
       "      <th>18</th>\n",
       "      <td>dohwa (4).jpg</td>\n",
       "      <td>dohwa</td>\n",
       "    </tr>\n",
       "    <tr>\n",
       "      <th>19</th>\n",
       "      <td>dohwa (5).jpg</td>\n",
       "      <td>dohwa</td>\n",
       "    </tr>\n",
       "    <tr>\n",
       "      <th>20</th>\n",
       "      <td>dohwa (6).jpg</td>\n",
       "      <td>dohwa</td>\n",
       "    </tr>\n",
       "    <tr>\n",
       "      <th>21</th>\n",
       "      <td>dohwa (7).jpg</td>\n",
       "      <td>dohwa</td>\n",
       "    </tr>\n",
       "    <tr>\n",
       "      <th>22</th>\n",
       "      <td>gongjak (1).jpg</td>\n",
       "      <td>gongjak</td>\n",
       "    </tr>\n",
       "    <tr>\n",
       "      <th>23</th>\n",
       "      <td>gongjak (2).jpg</td>\n",
       "      <td>gongjak</td>\n",
       "    </tr>\n",
       "    <tr>\n",
       "      <th>24</th>\n",
       "      <td>gongjak (3).jpg</td>\n",
       "      <td>gongjak</td>\n",
       "    </tr>\n",
       "    <tr>\n",
       "      <th>25</th>\n",
       "      <td>gongjak (4).jpg</td>\n",
       "      <td>gongjak</td>\n",
       "    </tr>\n",
       "    <tr>\n",
       "      <th>26</th>\n",
       "      <td>gongjak (5).jpg</td>\n",
       "      <td>gongjak</td>\n",
       "    </tr>\n",
       "    <tr>\n",
       "      <th>27</th>\n",
       "      <td>yong (1).jpg</td>\n",
       "      <td>yong</td>\n",
       "    </tr>\n",
       "    <tr>\n",
       "      <th>28</th>\n",
       "      <td>yong (2).jpg</td>\n",
       "      <td>yong</td>\n",
       "    </tr>\n",
       "    <tr>\n",
       "      <th>29</th>\n",
       "      <td>yong (3).jpg</td>\n",
       "      <td>yong</td>\n",
       "    </tr>\n",
       "    <tr>\n",
       "      <th>30</th>\n",
       "      <td>yong (4).jpg</td>\n",
       "      <td>yong</td>\n",
       "    </tr>\n",
       "    <tr>\n",
       "      <th>31</th>\n",
       "      <td>yong (5).jpg</td>\n",
       "      <td>yong</td>\n",
       "    </tr>\n",
       "  </tbody>\n",
       "</table>\n",
       "</div>"
      ],
      "text/plain": [
       "                   filename   category\n",
       "0         bonghwang (1).JPG  bonghwang\n",
       "1        bonghwang (10).JPG  bonghwang\n",
       "2        bonghwang (11).JPG  bonghwang\n",
       "3        bonghwang (12).JPG  bonghwang\n",
       "4        bonghwang (13).jpg  bonghwang\n",
       "5         bonghwang (2).JPG  bonghwang\n",
       "6         bonghwang (3).JPG  bonghwang\n",
       "7         bonghwang (4).JPG  bonghwang\n",
       "8         bonghwang (5).JPG  bonghwang\n",
       "9         bonghwang (6).JPG  bonghwang\n",
       "10        bonghwang (7).JPG  bonghwang\n",
       "11        bonghwang (8).JPG  bonghwang\n",
       "12        bonghwang (9).JPG  bonghwang\n",
       "13  bonghwang dongjae_L.JPG  bonghwang\n",
       "14  bonghwang dongjae_R.JPG  bonghwang\n",
       "15            dohwa (1).jpg      dohwa\n",
       "16            dohwa (2).jpg      dohwa\n",
       "17            dohwa (3).jpg      dohwa\n",
       "18            dohwa (4).jpg      dohwa\n",
       "19            dohwa (5).jpg      dohwa\n",
       "20            dohwa (6).jpg      dohwa\n",
       "21            dohwa (7).jpg      dohwa\n",
       "22          gongjak (1).jpg    gongjak\n",
       "23          gongjak (2).jpg    gongjak\n",
       "24          gongjak (3).jpg    gongjak\n",
       "25          gongjak (4).jpg    gongjak\n",
       "26          gongjak (5).jpg    gongjak\n",
       "27             yong (1).jpg       yong\n",
       "28             yong (2).jpg       yong\n",
       "29             yong (3).jpg       yong\n",
       "30             yong (4).jpg       yong\n",
       "31             yong (5).jpg       yong"
      ]
     },
     "execution_count": 25,
     "metadata": {},
     "output_type": "execute_result"
    }
   ],
   "source": [
    "test_df=pd.DataFrame({'filename':train_dir,'category':categories})\n",
    "test_df"
   ]
  },
  {
   "cell_type": "code",
   "execution_count": 26,
   "metadata": {},
   "outputs": [],
   "source": [
    "nb_samples = test_df.shape[0]\n",
    "test_gen = ImageDataGenerator(rescale=1./255)"
   ]
  },
  {
   "cell_type": "code",
   "execution_count": 27,
   "metadata": {},
   "outputs": [
    {
     "name": "stdout",
     "output_type": "stream",
     "text": [
      "Found 32 validated image filenames.\n"
     ]
    }
   ],
   "source": [
    "test_generator = test_gen.flow_from_dataframe(test_df,\n",
    "                                              \"eyes_test_real/eyes_test_real_test\",\n",
    "                                              x_col='filename',\n",
    "                                              y_col=None,\n",
    "                                              class_mode=None,\n",
    "                                              target_size=IMAGE_SIZE,\n",
    "                                              batch_size=batch_size,\n",
    "                                              shuffle=False)"
   ]
  },
  {
   "cell_type": "code",
   "execution_count": 28,
   "metadata": {},
   "outputs": [
    {
     "name": "stdout",
     "output_type": "stream",
     "text": [
      "WARNING:tensorflow:From <ipython-input-28-f93efe89e73d>:1: Model.predict_generator (from tensorflow.python.keras.engine.training) is deprecated and will be removed in a future version.\n",
      "Instructions for updating:\n",
      "Please use Model.predict, which supports generators.\n"
     ]
    }
   ],
   "source": [
    "predict = loaded_model.predict_generator(test_generator,steps=np.ceil(nb_samples/batch_size))"
   ]
  },
  {
   "cell_type": "code",
   "execution_count": 29,
   "metadata": {
    "scrolled": true
   },
   "outputs": [
    {
     "name": "stdout",
     "output_type": "stream",
     "text": [
      "{'bonghwang': 0, 'dohwa': 1, 'gongjak': 2, 'horang': 3, 'so': 4, 'yong': 5}\n",
      "[[4.80460403e-05 6.64030850e-01 3.76975481e-06 2.14910880e-02\n",
      "  3.14419955e-01 6.26252313e-06]\n",
      " [7.32635863e-06 1.05963345e-03 3.11192707e-06 1.31709445e-02\n",
      "  9.85759020e-01 1.34807685e-08]\n",
      " [6.49386211e-10 4.97188375e-05 2.15329568e-08 7.69115210e-01\n",
      "  2.30835035e-01 5.54571888e-10]\n",
      " [3.96978918e-13 4.49804202e-06 1.92145436e-07 3.72225404e-01\n",
      "  6.27769887e-01 1.61287567e-10]\n",
      " [4.80460403e-05 6.64030850e-01 3.76975481e-06 2.14910880e-02\n",
      "  3.14419955e-01 6.26252313e-06]\n",
      " [5.53948348e-06 7.20551610e-02 1.46337726e-07 2.01092684e-03\n",
      "  9.25927103e-01 1.12901989e-06]\n",
      " [6.67782185e-09 1.57406405e-01 1.64766135e-07 8.32245588e-01\n",
      "  1.03476299e-02 1.04181041e-07]\n",
      " [4.32419611e-09 3.50929573e-02 1.68650105e-09 9.64040697e-01\n",
      "  8.66317831e-04 7.23652527e-10]\n",
      " [8.39422967e-08 2.33674183e-01 6.39283883e-07 4.08727974e-01\n",
      "  3.57596636e-01 4.96553241e-07]\n",
      " [5.18424343e-08 1.50012583e-01 1.78611117e-06 5.01965344e-01\n",
      "  3.48020196e-01 1.08820304e-08]\n",
      " [8.97862124e-16 2.15874380e-07 1.08816460e-01 8.91095877e-01\n",
      "  8.72764358e-05 7.27290086e-08]\n",
      " [3.35763274e-21 2.32468337e-05 9.78364408e-01 1.13152360e-04\n",
      "  2.12108679e-02 2.88401206e-04]\n",
      " [1.45222501e-07 1.35028474e-02 5.03860247e-05 3.39720011e-01\n",
      "  6.46724582e-01 2.09899144e-06]\n",
      " [5.37947553e-09 9.51297022e-03 2.08232809e-09 8.93631458e-01\n",
      "  9.68555212e-02 4.19511682e-11]\n",
      " [7.54898281e-07 1.52553588e-01 9.70015094e-07 3.74090940e-01\n",
      "  4.73353565e-01 9.38390485e-08]\n",
      " [1.26744108e-05 7.55539775e-01 1.65445999e-05 4.48865304e-03\n",
      "  2.39940435e-01 1.83169152e-06]\n",
      " [6.36971365e-09 9.84393537e-01 4.90077923e-07 1.48732420e-02\n",
      "  7.32718676e-04 1.87803084e-09]\n",
      " [2.03465400e-09 9.60943818e-01 4.45798456e-08 3.16232815e-02\n",
      "  7.43289897e-03 1.87891674e-10]\n",
      " [1.63484435e-06 6.57271827e-03 1.05062636e-05 2.30196164e-07\n",
      "  9.93414879e-01 5.53376687e-08]\n",
      " [1.68060869e-04 8.51390660e-01 9.52510163e-06 4.89243213e-03\n",
      "  1.43526539e-01 1.27911098e-05]\n",
      " [7.37803421e-05 1.40397847e-01 1.47384526e-06 2.18761098e-02\n",
      "  8.37649882e-01 9.22455683e-07]\n",
      " [1.19336121e-07 9.88846123e-01 8.68069151e-07 1.74370490e-03\n",
      "  9.40932427e-03 5.76666892e-08]\n",
      " [9.53767767e-07 9.13623214e-01 8.84948622e-06 7.23622665e-02\n",
      "  1.40046272e-02 1.51581560e-07]\n",
      " [6.76885676e-08 9.91881073e-01 2.24210635e-06 7.29050348e-03\n",
      "  8.26035975e-04 4.49465674e-08]\n",
      " [5.04597573e-08 9.18458924e-02 1.11228619e-02 5.96086238e-06\n",
      "  8.96967113e-01 5.80089982e-05]\n",
      " [1.13935017e-09 8.91936064e-01 2.52597742e-02 8.27651620e-02\n",
      "  8.16867941e-06 3.07688533e-05]\n",
      " [5.38875383e-07 1.30990371e-01 2.23842263e-03 2.86711565e-06\n",
      "  8.66765261e-01 2.45355545e-06]\n",
      " [1.14360166e-09 1.43611044e-01 3.77131546e-05 1.87787718e-05\n",
      "  8.56332481e-01 6.28669686e-11]\n",
      " [2.16900219e-07 1.34310671e-04 1.42001977e-09 1.71200171e-01\n",
      "  8.28665316e-01 2.71289602e-10]\n",
      " [1.05081745e-06 9.93730664e-01 2.76554580e-04 5.34951081e-03\n",
      "  6.38612197e-04 3.50120195e-06]\n",
      " [1.13533713e-06 9.68919575e-01 2.52105594e-02 5.42304339e-03\n",
      "  3.89919529e-04 5.58138308e-05]\n",
      " [2.48374017e-05 5.32820076e-02 1.14202546e-03 2.47115456e-02\n",
      "  9.20838237e-01 1.35004802e-06]]\n"
     ]
    }
   ],
   "source": [
    "print(train_generator.class_indices)\n",
    "print(predict)"
   ]
  },
  {
   "cell_type": "code",
   "execution_count": 30,
   "metadata": {
    "scrolled": true
   },
   "outputs": [
    {
     "data": {
      "text/html": [
       "<div>\n",
       "<style scoped>\n",
       "    .dataframe tbody tr th:only-of-type {\n",
       "        vertical-align: middle;\n",
       "    }\n",
       "\n",
       "    .dataframe tbody tr th {\n",
       "        vertical-align: top;\n",
       "    }\n",
       "\n",
       "    .dataframe thead th {\n",
       "        text-align: right;\n",
       "    }\n",
       "</style>\n",
       "<table border=\"1\" class=\"dataframe\">\n",
       "  <thead>\n",
       "    <tr style=\"text-align: right;\">\n",
       "      <th></th>\n",
       "      <th>filename</th>\n",
       "      <th>category</th>\n",
       "    </tr>\n",
       "  </thead>\n",
       "  <tbody>\n",
       "    <tr>\n",
       "      <th>0</th>\n",
       "      <td>bonghwang (1).JPG</td>\n",
       "      <td>dohwa</td>\n",
       "    </tr>\n",
       "    <tr>\n",
       "      <th>1</th>\n",
       "      <td>bonghwang (10).JPG</td>\n",
       "      <td>so</td>\n",
       "    </tr>\n",
       "    <tr>\n",
       "      <th>2</th>\n",
       "      <td>bonghwang (11).JPG</td>\n",
       "      <td>horang</td>\n",
       "    </tr>\n",
       "    <tr>\n",
       "      <th>3</th>\n",
       "      <td>bonghwang (12).JPG</td>\n",
       "      <td>so</td>\n",
       "    </tr>\n",
       "    <tr>\n",
       "      <th>4</th>\n",
       "      <td>bonghwang (13).jpg</td>\n",
       "      <td>dohwa</td>\n",
       "    </tr>\n",
       "    <tr>\n",
       "      <th>5</th>\n",
       "      <td>bonghwang (2).JPG</td>\n",
       "      <td>so</td>\n",
       "    </tr>\n",
       "    <tr>\n",
       "      <th>6</th>\n",
       "      <td>bonghwang (3).JPG</td>\n",
       "      <td>horang</td>\n",
       "    </tr>\n",
       "    <tr>\n",
       "      <th>7</th>\n",
       "      <td>bonghwang (4).JPG</td>\n",
       "      <td>horang</td>\n",
       "    </tr>\n",
       "    <tr>\n",
       "      <th>8</th>\n",
       "      <td>bonghwang (5).JPG</td>\n",
       "      <td>horang</td>\n",
       "    </tr>\n",
       "    <tr>\n",
       "      <th>9</th>\n",
       "      <td>bonghwang (6).JPG</td>\n",
       "      <td>horang</td>\n",
       "    </tr>\n",
       "    <tr>\n",
       "      <th>10</th>\n",
       "      <td>bonghwang (7).JPG</td>\n",
       "      <td>horang</td>\n",
       "    </tr>\n",
       "    <tr>\n",
       "      <th>11</th>\n",
       "      <td>bonghwang (8).JPG</td>\n",
       "      <td>gongjak</td>\n",
       "    </tr>\n",
       "    <tr>\n",
       "      <th>12</th>\n",
       "      <td>bonghwang (9).JPG</td>\n",
       "      <td>so</td>\n",
       "    </tr>\n",
       "    <tr>\n",
       "      <th>13</th>\n",
       "      <td>bonghwang dongjae_L.JPG</td>\n",
       "      <td>horang</td>\n",
       "    </tr>\n",
       "    <tr>\n",
       "      <th>14</th>\n",
       "      <td>bonghwang dongjae_R.JPG</td>\n",
       "      <td>so</td>\n",
       "    </tr>\n",
       "    <tr>\n",
       "      <th>15</th>\n",
       "      <td>dohwa (1).jpg</td>\n",
       "      <td>dohwa</td>\n",
       "    </tr>\n",
       "    <tr>\n",
       "      <th>16</th>\n",
       "      <td>dohwa (2).jpg</td>\n",
       "      <td>dohwa</td>\n",
       "    </tr>\n",
       "    <tr>\n",
       "      <th>17</th>\n",
       "      <td>dohwa (3).jpg</td>\n",
       "      <td>dohwa</td>\n",
       "    </tr>\n",
       "    <tr>\n",
       "      <th>18</th>\n",
       "      <td>dohwa (4).jpg</td>\n",
       "      <td>so</td>\n",
       "    </tr>\n",
       "    <tr>\n",
       "      <th>19</th>\n",
       "      <td>dohwa (5).jpg</td>\n",
       "      <td>dohwa</td>\n",
       "    </tr>\n",
       "    <tr>\n",
       "      <th>20</th>\n",
       "      <td>dohwa (6).jpg</td>\n",
       "      <td>so</td>\n",
       "    </tr>\n",
       "    <tr>\n",
       "      <th>21</th>\n",
       "      <td>dohwa (7).jpg</td>\n",
       "      <td>dohwa</td>\n",
       "    </tr>\n",
       "    <tr>\n",
       "      <th>22</th>\n",
       "      <td>gongjak (1).jpg</td>\n",
       "      <td>dohwa</td>\n",
       "    </tr>\n",
       "    <tr>\n",
       "      <th>23</th>\n",
       "      <td>gongjak (2).jpg</td>\n",
       "      <td>dohwa</td>\n",
       "    </tr>\n",
       "    <tr>\n",
       "      <th>24</th>\n",
       "      <td>gongjak (3).jpg</td>\n",
       "      <td>so</td>\n",
       "    </tr>\n",
       "    <tr>\n",
       "      <th>25</th>\n",
       "      <td>gongjak (4).jpg</td>\n",
       "      <td>dohwa</td>\n",
       "    </tr>\n",
       "    <tr>\n",
       "      <th>26</th>\n",
       "      <td>gongjak (5).jpg</td>\n",
       "      <td>so</td>\n",
       "    </tr>\n",
       "    <tr>\n",
       "      <th>27</th>\n",
       "      <td>yong (1).jpg</td>\n",
       "      <td>so</td>\n",
       "    </tr>\n",
       "    <tr>\n",
       "      <th>28</th>\n",
       "      <td>yong (2).jpg</td>\n",
       "      <td>so</td>\n",
       "    </tr>\n",
       "    <tr>\n",
       "      <th>29</th>\n",
       "      <td>yong (3).jpg</td>\n",
       "      <td>dohwa</td>\n",
       "    </tr>\n",
       "    <tr>\n",
       "      <th>30</th>\n",
       "      <td>yong (4).jpg</td>\n",
       "      <td>dohwa</td>\n",
       "    </tr>\n",
       "    <tr>\n",
       "      <th>31</th>\n",
       "      <td>yong (5).jpg</td>\n",
       "      <td>so</td>\n",
       "    </tr>\n",
       "  </tbody>\n",
       "</table>\n",
       "</div>"
      ],
      "text/plain": [
       "                   filename category\n",
       "0         bonghwang (1).JPG    dohwa\n",
       "1        bonghwang (10).JPG       so\n",
       "2        bonghwang (11).JPG   horang\n",
       "3        bonghwang (12).JPG       so\n",
       "4        bonghwang (13).jpg    dohwa\n",
       "5         bonghwang (2).JPG       so\n",
       "6         bonghwang (3).JPG   horang\n",
       "7         bonghwang (4).JPG   horang\n",
       "8         bonghwang (5).JPG   horang\n",
       "9         bonghwang (6).JPG   horang\n",
       "10        bonghwang (7).JPG   horang\n",
       "11        bonghwang (8).JPG  gongjak\n",
       "12        bonghwang (9).JPG       so\n",
       "13  bonghwang dongjae_L.JPG   horang\n",
       "14  bonghwang dongjae_R.JPG       so\n",
       "15            dohwa (1).jpg    dohwa\n",
       "16            dohwa (2).jpg    dohwa\n",
       "17            dohwa (3).jpg    dohwa\n",
       "18            dohwa (4).jpg       so\n",
       "19            dohwa (5).jpg    dohwa\n",
       "20            dohwa (6).jpg       so\n",
       "21            dohwa (7).jpg    dohwa\n",
       "22          gongjak (1).jpg    dohwa\n",
       "23          gongjak (2).jpg    dohwa\n",
       "24          gongjak (3).jpg       so\n",
       "25          gongjak (4).jpg    dohwa\n",
       "26          gongjak (5).jpg       so\n",
       "27             yong (1).jpg       so\n",
       "28             yong (2).jpg       so\n",
       "29             yong (3).jpg    dohwa\n",
       "30             yong (4).jpg    dohwa\n",
       "31             yong (5).jpg       so"
      ]
     },
     "execution_count": 30,
     "metadata": {},
     "output_type": "execute_result"
    }
   ],
   "source": [
    "test_df['category'] = np.argmax(predict, axis=-1)\n",
    "\n",
    "label_map = dict((v,k) for k,v in train_generator.class_indices.items())\n",
    "test_df['category'] = test_df['category'].replace(label_map)\n",
    "\n",
    "test_df"
   ]
  },
  {
   "cell_type": "code",
   "execution_count": null,
   "metadata": {},
   "outputs": [],
   "source": [
    "predict."
   ]
  },
  {
   "cell_type": "code",
   "execution_count": null,
   "metadata": {},
   "outputs": [],
   "source": []
  },
  {
   "cell_type": "code",
   "execution_count": 31,
   "metadata": {},
   "outputs": [],
   "source": [
    "import tensorflow as tf"
   ]
  },
  {
   "cell_type": "code",
   "execution_count": 32,
   "metadata": {
    "scrolled": true
   },
   "outputs": [
    {
     "data": {
      "image/png": "[encoded data removed]",
      "text/plain": [
       "<IPython.core.display.Image object>"
      ]
     },
     "execution_count": 32,
     "metadata": {},
     "output_type": "execute_result"
    }
   ],
   "source": [
    "tf.keras.utils.plot_model(\n",
    "    loaded_model,\n",
    "    to_file=\"model.png\",\n",
    "    show_shapes=False,\n",
    "    show_layer_names=True,\n",
    "    rankdir=\"TB\",\n",
    "    expand_nested=False,\n",
    "    dpi=96,\n",
    ")"
   ]
  },
  {
   "cell_type": "code",
   "execution_count": 33,
   "metadata": {},
   "outputs": [
    {
     "ename": "FileNotFoundError",
     "evalue": "[Errno 2] No such file or directory: '/tmp/model_1.png'",
     "output_type": "error",
     "traceback": [
      "\u001b[1;31m---------------------------------------------------------------------------\u001b[0m",
      "\u001b[1;31mFileNotFoundError\u001b[0m                         Traceback (most recent call last)",
      "\u001b[1;32m<ipython-input-33-88437514352f>\u001b[0m in \u001b[0;36m<module>\u001b[1;34m\u001b[0m\n\u001b[0;32m      9\u001b[0m \u001b[0mmodel\u001b[0m \u001b[1;33m=\u001b[0m \u001b[0mtf\u001b[0m\u001b[1;33m.\u001b[0m\u001b[0mkeras\u001b[0m\u001b[1;33m.\u001b[0m\u001b[0mModel\u001b[0m\u001b[1;33m(\u001b[0m\u001b[0minputs\u001b[0m\u001b[1;33m=\u001b[0m\u001b[1;33m[\u001b[0m\u001b[0minput\u001b[0m\u001b[1;33m]\u001b[0m\u001b[1;33m,\u001b[0m \u001b[0moutputs\u001b[0m\u001b[1;33m=\u001b[0m\u001b[1;33m[\u001b[0m\u001b[0moutput\u001b[0m\u001b[1;33m]\u001b[0m\u001b[1;33m)\u001b[0m\u001b[1;33m\u001b[0m\u001b[1;33m\u001b[0m\u001b[0m\n\u001b[0;32m     10\u001b[0m \u001b[0mdot_img_file\u001b[0m \u001b[1;33m=\u001b[0m \u001b[1;34m'/tmp/model_1.png'\u001b[0m\u001b[1;33m\u001b[0m\u001b[1;33m\u001b[0m\u001b[0m\n\u001b[1;32m---> 11\u001b[1;33m \u001b[0mtf\u001b[0m\u001b[1;33m.\u001b[0m\u001b[0mkeras\u001b[0m\u001b[1;33m.\u001b[0m\u001b[0mutils\u001b[0m\u001b[1;33m.\u001b[0m\u001b[0mplot_model\u001b[0m\u001b[1;33m(\u001b[0m\u001b[0mmodel\u001b[0m\u001b[1;33m,\u001b[0m \u001b[0mto_file\u001b[0m\u001b[1;33m=\u001b[0m\u001b[0mdot_img_file\u001b[0m\u001b[1;33m,\u001b[0m \u001b[0mshow_shapes\u001b[0m\u001b[1;33m=\u001b[0m\u001b[1;32mTrue\u001b[0m\u001b[1;33m)\u001b[0m\u001b[1;33m\u001b[0m\u001b[1;33m\u001b[0m\u001b[0m\n\u001b[0m",
      "\u001b[1;32mC:\\Anaconda3\\lib\\site-packages\\tensorflow\\python\\keras\\utils\\vis_utils.py\u001b[0m in \u001b[0;36mplot_model\u001b[1;34m(model, to_file, show_shapes, show_layer_names, rankdir, expand_nested, dpi)\u001b[0m\n\u001b[0;32m    314\u001b[0m     \u001b[0mextension\u001b[0m \u001b[1;33m=\u001b[0m \u001b[0mextension\u001b[0m\u001b[1;33m[\u001b[0m\u001b[1;36m1\u001b[0m\u001b[1;33m:\u001b[0m\u001b[1;33m]\u001b[0m\u001b[1;33m\u001b[0m\u001b[1;33m\u001b[0m\u001b[0m\n\u001b[0;32m    315\u001b[0m   \u001b[1;31m# Save image to disk.\u001b[0m\u001b[1;33m\u001b[0m\u001b[1;33m\u001b[0m\u001b[1;33m\u001b[0m\u001b[0m\n\u001b[1;32m--> 316\u001b[1;33m   \u001b[0mdot\u001b[0m\u001b[1;33m.\u001b[0m\u001b[0mwrite\u001b[0m\u001b[1;33m(\u001b[0m\u001b[0mto_file\u001b[0m\u001b[1;33m,\u001b[0m \u001b[0mformat\u001b[0m\u001b[1;33m=\u001b[0m\u001b[0mextension\u001b[0m\u001b[1;33m)\u001b[0m\u001b[1;33m\u001b[0m\u001b[1;33m\u001b[0m\u001b[0m\n\u001b[0m\u001b[0;32m    317\u001b[0m   \u001b[1;31m# Return the image as a Jupyter Image object, to be displayed in-line.\u001b[0m\u001b[1;33m\u001b[0m\u001b[1;33m\u001b[0m\u001b[1;33m\u001b[0m\u001b[0m\n\u001b[0;32m    318\u001b[0m   \u001b[1;31m# Note that we cannot easily detect whether the code is running in a\u001b[0m\u001b[1;33m\u001b[0m\u001b[1;33m\u001b[0m\u001b[1;33m\u001b[0m\u001b[0m\n",
      "\u001b[1;32mC:\\Anaconda3\\lib\\site-packages\\pydot.py\u001b[0m in \u001b[0;36mwrite\u001b[1;34m(self, path, prog, format, encoding)\u001b[0m\n\u001b[0;32m   1816\u001b[0m         \u001b[1;32melse\u001b[0m\u001b[1;33m:\u001b[0m\u001b[1;33m\u001b[0m\u001b[1;33m\u001b[0m\u001b[0m\n\u001b[0;32m   1817\u001b[0m             \u001b[0ms\u001b[0m \u001b[1;33m=\u001b[0m \u001b[0mself\u001b[0m\u001b[1;33m.\u001b[0m\u001b[0mcreate\u001b[0m\u001b[1;33m(\u001b[0m\u001b[0mprog\u001b[0m\u001b[1;33m,\u001b[0m \u001b[0mformat\u001b[0m\u001b[1;33m,\u001b[0m \u001b[0mencoding\u001b[0m\u001b[1;33m=\u001b[0m\u001b[0mencoding\u001b[0m\u001b[1;33m)\u001b[0m\u001b[1;33m\u001b[0m\u001b[1;33m\u001b[0m\u001b[0m\n\u001b[1;32m-> 1818\u001b[1;33m             \u001b[1;32mwith\u001b[0m \u001b[0mio\u001b[0m\u001b[1;33m.\u001b[0m\u001b[0mopen\u001b[0m\u001b[1;33m(\u001b[0m\u001b[0mpath\u001b[0m\u001b[1;33m,\u001b[0m \u001b[0mmode\u001b[0m\u001b[1;33m=\u001b[0m\u001b[1;34m'wb'\u001b[0m\u001b[1;33m)\u001b[0m \u001b[1;32mas\u001b[0m \u001b[0mf\u001b[0m\u001b[1;33m:\u001b[0m\u001b[1;33m\u001b[0m\u001b[1;33m\u001b[0m\u001b[0m\n\u001b[0m\u001b[0;32m   1819\u001b[0m                 \u001b[0mf\u001b[0m\u001b[1;33m.\u001b[0m\u001b[0mwrite\u001b[0m\u001b[1;33m(\u001b[0m\u001b[0ms\u001b[0m\u001b[1;33m)\u001b[0m\u001b[1;33m\u001b[0m\u001b[1;33m\u001b[0m\u001b[0m\n\u001b[0;32m   1820\u001b[0m         \u001b[1;32mreturn\u001b[0m \u001b[1;32mTrue\u001b[0m\u001b[1;33m\u001b[0m\u001b[1;33m\u001b[0m\u001b[0m\n",
      "\u001b[1;31mFileNotFoundError\u001b[0m: [Errno 2] No such file or directory: '/tmp/model_1.png'"
     ]
    }
   ],
   "source": [
    "input = tf.keras.Input(shape=(100,), dtype='int32', name='input')\n",
    "x = tf.keras.layers.Embedding(\n",
    "    output_dim=512, input_dim=10000, input_length=100)(input)\n",
    "x = tf.keras.layers.LSTM(32)(x)\n",
    "x = tf.keras.layers.Dense(64, activation='relu')(x)\n",
    "x = tf.keras.layers.Dense(64, activation='relu')(x)\n",
    "x = tf.keras.layers.Dense(64, activation='relu')(x)\n",
    "output = tf.keras.layers.Dense(1, activation='sigmoid', name='output')(x)\n",
    "model = tf.keras.Model(inputs=[input], outputs=[output])\n",
    "dot_img_file = '/tmp/model_1.png'\n",
    "tf.keras.utils.plot_model(model, to_file=dot_img_file, show_shapes=True)"
   ]
  },
  {
   "cell_type": "code",
   "execution_count": null,
   "metadata": {},
   "outputs": [],
   "source": []
  }
 ],
 "metadata": {
  "kernelspec": {
   "display_name": "Python 3",
   "language": "python",
   "name": "python3"
  },
  "language_info": {
   "codemirror_mode": {
    "name": "ipython",
    "version": 3
   },
   "file_extension": ".py",
   "mimetype": "text/x-python",
   "name": "python",
   "nbconvert_exporter": "python",
   "pygments_lexer": "ipython3",
   "version": "3.7.7"
  }
 },
 "nbformat": 4,
 "nbformat_minor": 4
}

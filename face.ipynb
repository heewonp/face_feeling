{
 "cells": [
  {
   "cell_type": "code",
   "execution_count": 1,
   "metadata": {},
   "outputs": [],
   "source": [
    "import numpy as np\n",
    "import pandas as pd \n",
    "from keras.preprocessing.image import ImageDataGenerator, load_img, img_to_array\n",
    "from keras.utils import to_categorical\n",
    "from sklearn.model_selection import train_test_split\n",
    "import matplotlib.pyplot as plt\n",
    "import random\n",
    "import os"
   ]
  },
  {
   "cell_type": "code",
   "execution_count": 2,
   "metadata": {},
   "outputs": [],
   "source": [
    "IMAGE_WIDTH=28\n",
    "IMAGE_HEIGHT=28\n",
    "IMAGE_SIZE=(IMAGE_WIDTH, IMAGE_HEIGHT)\n",
    "IMAGE_CHANNELS=3"
   ]
  },
  {
   "cell_type": "code",
   "execution_count": 3,
   "metadata": {},
   "outputs": [],
   "source": [
    "categories=[]\n",
    "train_dir=os.listdir(\"train/\")\n",
    "for filename in train_dir:\n",
    "    category=filename.split('.')[0]\n",
    "    if category == 'bonghwang':\n",
    "        categories.append('bonghwang')\n",
    "    if category == 'dohwa':\n",
    "        categories.append('dohwa')\n",
    "    if category == 'gongjak':\n",
    "        categories.append('gongjak')\n",
    "    if category == 'horang':\n",
    "        categories.append('horang')\n",
    "    if category == 'so':\n",
    "        categories.append('so')\n",
    "    if category == 'yong':\n",
    "        categories.append('yong')"
   ]
  },
  {
   "cell_type": "code",
   "execution_count": 4,
   "metadata": {},
   "outputs": [
    {
     "data": {
      "text/html": [
       "<div>\n",
       "<style scoped>\n",
       "    .dataframe tbody tr th:only-of-type {\n",
       "        vertical-align: middle;\n",
       "    }\n",
       "\n",
       "    .dataframe tbody tr th {\n",
       "        vertical-align: top;\n",
       "    }\n",
       "\n",
       "    .dataframe thead th {\n",
       "        text-align: right;\n",
       "    }\n",
       "</style>\n",
       "<table border=\"1\" class=\"dataframe\">\n",
       "  <thead>\n",
       "    <tr style=\"text-align: right;\">\n",
       "      <th></th>\n",
       "      <th>filename</th>\n",
       "      <th>category</th>\n",
       "    </tr>\n",
       "  </thead>\n",
       "  <tbody>\n",
       "    <tr>\n",
       "      <th>0</th>\n",
       "      <td>bonghwang.00001.jpg</td>\n",
       "      <td>bonghwang</td>\n",
       "    </tr>\n",
       "    <tr>\n",
       "      <th>1</th>\n",
       "      <td>bonghwang.00002.jpg</td>\n",
       "      <td>bonghwang</td>\n",
       "    </tr>\n",
       "    <tr>\n",
       "      <th>2</th>\n",
       "      <td>bonghwang.00003.jpg</td>\n",
       "      <td>bonghwang</td>\n",
       "    </tr>\n",
       "    <tr>\n",
       "      <th>3</th>\n",
       "      <td>bonghwang.00004.jpg</td>\n",
       "      <td>bonghwang</td>\n",
       "    </tr>\n",
       "    <tr>\n",
       "      <th>4</th>\n",
       "      <td>bonghwang.00005.jpg</td>\n",
       "      <td>bonghwang</td>\n",
       "    </tr>\n",
       "    <tr>\n",
       "      <th>...</th>\n",
       "      <td>...</td>\n",
       "      <td>...</td>\n",
       "    </tr>\n",
       "    <tr>\n",
       "      <th>33352</th>\n",
       "      <td>yong.05716.jpg</td>\n",
       "      <td>yong</td>\n",
       "    </tr>\n",
       "    <tr>\n",
       "      <th>33353</th>\n",
       "      <td>yong.05717.jpg</td>\n",
       "      <td>yong</td>\n",
       "    </tr>\n",
       "    <tr>\n",
       "      <th>33354</th>\n",
       "      <td>yong.05718.jpg</td>\n",
       "      <td>yong</td>\n",
       "    </tr>\n",
       "    <tr>\n",
       "      <th>33355</th>\n",
       "      <td>yong.05719.jpg</td>\n",
       "      <td>yong</td>\n",
       "    </tr>\n",
       "    <tr>\n",
       "      <th>33356</th>\n",
       "      <td>yong.05720.jpg</td>\n",
       "      <td>yong</td>\n",
       "    </tr>\n",
       "  </tbody>\n",
       "</table>\n",
       "<p>33357 rows × 2 columns</p>\n",
       "</div>"
      ],
      "text/plain": [
       "                  filename   category\n",
       "0      bonghwang.00001.jpg  bonghwang\n",
       "1      bonghwang.00002.jpg  bonghwang\n",
       "2      bonghwang.00003.jpg  bonghwang\n",
       "3      bonghwang.00004.jpg  bonghwang\n",
       "4      bonghwang.00005.jpg  bonghwang\n",
       "...                    ...        ...\n",
       "33352       yong.05716.jpg       yong\n",
       "33353       yong.05717.jpg       yong\n",
       "33354       yong.05718.jpg       yong\n",
       "33355       yong.05719.jpg       yong\n",
       "33356       yong.05720.jpg       yong\n",
       "\n",
       "[33357 rows x 2 columns]"
      ]
     },
     "execution_count": 4,
     "metadata": {},
     "output_type": "execute_result"
    }
   ],
   "source": [
    "df=pd.DataFrame({'filename':train_dir,'category':categories})\n",
    "df"
   ]
  },
  {
   "cell_type": "code",
   "execution_count": 5,
   "metadata": {},
   "outputs": [],
   "source": [
    "train_df, validate_df = train_test_split(df, test_size=0.20, random_state=42)\n",
    "train_df = train_df.reset_index(drop=True)\n",
    "validate_df = validate_df.reset_index(drop=True)"
   ]
  },
  {
   "cell_type": "code",
   "execution_count": 6,
   "metadata": {},
   "outputs": [],
   "source": [
    "train_df = train_df.reset_index(drop=True)\n",
    "validate_df = validate_df.reset_index(drop=True)"
   ]
  },
  {
   "cell_type": "code",
   "execution_count": 7,
   "metadata": {},
   "outputs": [
    {
     "data": {
      "text/plain": [
       "<matplotlib.axes._subplots.AxesSubplot at 0x28843df0070>"
      ]
     },
     "execution_count": 7,
     "metadata": {},
     "output_type": "execute_result"
    },
    {
     "data": {
      "image/png": "[encoded data removed]",
      "text/plain": [
       "<Figure size 432x288 with 1 Axes>"
      ]
     },
     "metadata": {
      "needs_background": "light"
     },
     "output_type": "display_data"
    }
   ],
   "source": [
    "train_df['category'].value_counts().plot.bar()"
   ]
  },
  {
   "cell_type": "code",
   "execution_count": 8,
   "metadata": {},
   "outputs": [
    {
     "data": {
      "text/plain": [
       "<matplotlib.axes._subplots.AxesSubplot at 0x28844540400>"
      ]
     },
     "execution_count": 8,
     "metadata": {},
     "output_type": "execute_result"
    },
    {
     "data": {
      "image/png": "[encoded data removed]",
      "text/plain": [
       "<Figure size 432x288 with 1 Axes>"
      ]
     },
     "metadata": {
      "needs_background": "light"
     },
     "output_type": "display_data"
    }
   ],
   "source": [
    "validate_df['category'].value_counts().plot.bar()"
   ]
  },
  {
   "cell_type": "code",
   "execution_count": 9,
   "metadata": {},
   "outputs": [],
   "source": [
    "total_train = train_df.shape[0]\n",
    "total_validate = validate_df.shape[0]\n",
    "batch_size=15"
   ]
  },
  {
   "cell_type": "code",
   "execution_count": 10,
   "metadata": {},
   "outputs": [],
   "source": [
    "train_datagen = ImageDataGenerator(rotation_range=15,\n",
    "                                   rescale=1./255,\n",
    "                                   shear_range=0.1,\n",
    "                                   zoom_range=0.2,\n",
    "                                   horizontal_flip=True,\n",
    "                                   width_shift_range=0.1,\n",
    "                                   height_shift_range=0.1)"
   ]
  },
  {
   "cell_type": "code",
   "execution_count": 11,
   "metadata": {},
   "outputs": [
    {
     "name": "stdout",
     "output_type": "stream",
     "text": [
      "Found 26685 validated image filenames belonging to 6 classes.\n"
     ]
    }
   ],
   "source": [
    "train_generator=train_datagen.flow_from_dataframe(train_df,\n",
    "                                 'train/',\n",
    "                                 x_col='filename',\n",
    "                                 y_col='category',\n",
    "                                  target_size=IMAGE_SIZE,\n",
    "                                  class_mode='categorical',\n",
    "                                  batch_size=batch_size\n",
    "                                 )"
   ]
  },
  {
   "cell_type": "code",
   "execution_count": 12,
   "metadata": {},
   "outputs": [
    {
     "name": "stdout",
     "output_type": "stream",
     "text": [
      "Found 6672 validated image filenames belonging to 6 classes.\n"
     ]
    }
   ],
   "source": [
    "validation_datagen = ImageDataGenerator(rescale=1./255)\n",
    "\n",
    "validation_generator = validation_datagen.flow_from_dataframe(validate_df,\n",
    "                                                              \"train/\",\n",
    "                                                              x_col='filename',\n",
    "                                                              y_col='category',\n",
    "                                                              target_size=IMAGE_SIZE,\n",
    "                                                              class_mode='categorical',\n",
    "                                                              batch_size=batch_size)"
   ]
  },
  {
   "cell_type": "code",
   "execution_count": 13,
   "metadata": {},
   "outputs": [],
   "source": [
    "from keras.models import Sequential\n",
    "from keras.layers import *"
   ]
  },
  {
   "cell_type": "code",
   "execution_count": 14,
   "metadata": {},
   "outputs": [
    {
     "name": "stdout",
     "output_type": "stream",
     "text": [
      "Model: \"sequential\"\n",
      "_________________________________________________________________\n",
      "Layer (type)                 Output Shape              Param #   \n",
      "=================================================================\n",
      "conv2d (Conv2D)              (None, 26, 26, 32)        896       \n",
      "_________________________________________________________________\n",
      "batch_normalization (BatchNo (None, 26, 26, 32)        128       \n",
      "_________________________________________________________________\n",
      "max_pooling2d (MaxPooling2D) (None, 13, 13, 32)        0         \n",
      "_________________________________________________________________\n",
      "dropout (Dropout)            (None, 13, 13, 32)        0         \n",
      "_________________________________________________________________\n",
      "conv2d_1 (Conv2D)            (None, 11, 11, 64)        18496     \n",
      "_________________________________________________________________\n",
      "batch_normalization_1 (Batch (None, 11, 11, 64)        256       \n",
      "_________________________________________________________________\n",
      "max_pooling2d_1 (MaxPooling2 (None, 5, 5, 64)          0         \n",
      "_________________________________________________________________\n",
      "dropout_1 (Dropout)          (None, 5, 5, 64)          0         \n",
      "_________________________________________________________________\n",
      "conv2d_2 (Conv2D)            (None, 3, 3, 128)         73856     \n",
      "_________________________________________________________________\n",
      "batch_normalization_2 (Batch (None, 3, 3, 128)         512       \n",
      "_________________________________________________________________\n",
      "max_pooling2d_2 (MaxPooling2 (None, 1, 1, 128)         0         \n",
      "_________________________________________________________________\n",
      "dropout_2 (Dropout)          (None, 1, 1, 128)         0         \n",
      "_________________________________________________________________\n",
      "flatten (Flatten)            (None, 128)               0         \n",
      "_________________________________________________________________\n",
      "dense (Dense)                (None, 512)               66048     \n",
      "_________________________________________________________________\n",
      "batch_normalization_3 (Batch (None, 512)               2048      \n",
      "_________________________________________________________________\n",
      "dropout_3 (Dropout)          (None, 512)               0         \n",
      "_________________________________________________________________\n",
      "dense_1 (Dense)              (None, 6)                 3078      \n",
      "=================================================================\n",
      "Total params: 165,318\n",
      "Trainable params: 163,846\n",
      "Non-trainable params: 1,472\n",
      "_________________________________________________________________\n"
     ]
    }
   ],
   "source": [
    "model = Sequential()\n",
    "model.add(Conv2D(32, (3, 3), activation='relu', input_shape=(IMAGE_WIDTH, IMAGE_HEIGHT, IMAGE_CHANNELS)))\n",
    "model.add(BatchNormalization())\n",
    "model.add(MaxPooling2D(pool_size=(2, 2)))\n",
    "model.add(Dropout(0.25))\n",
    "model.add(Conv2D(64, (3, 3), activation='relu'))\n",
    "model.add(BatchNormalization())\n",
    "model.add(MaxPooling2D(pool_size=(2, 2)))\n",
    "model.add(Dropout(0.25))\n",
    "model.add(Conv2D(128, (3, 3), activation='relu'))\n",
    "model.add(BatchNormalization())\n",
    "model.add(MaxPooling2D(pool_size=(2, 2)))\n",
    "model.add(Dropout(0.25))\n",
    "model.add(Flatten())\n",
    "model.add(Dense(512, activation='relu'))\n",
    "model.add(BatchNormalization())\n",
    "model.add(Dropout(0.5))\n",
    "model.add(Dense(6, activation='softmax')) # 2 because we have cat and dog classes\n",
    "model.compile(loss='categorical_crossentropy', optimizer='rmsprop', metrics=['accuracy'])\n",
    "model.summary()"
   ]
  },
  {
   "cell_type": "code",
   "execution_count": 15,
   "metadata": {},
   "outputs": [],
   "source": [
    "from keras.callbacks import EarlyStopping, ReduceLROnPlateau"
   ]
  },
  {
   "cell_type": "code",
   "execution_count": 16,
   "metadata": {},
   "outputs": [],
   "source": [
    "earlystop = EarlyStopping(patience=10),\n",
    "learning_rate_reduction = ReduceLROnPlateau(monitor='val_accuracy',\n",
    "                                           patience=2,\n",
    "                                           verbose=1,\n",
    "                                            factor=0.5,\n",
    "                                            min_lr=0.00001)"
   ]
  },
  {
   "cell_type": "code",
   "execution_count": 17,
   "metadata": {},
   "outputs": [
    {
     "name": "stdout",
     "output_type": "stream",
     "text": [
      "WARNING:tensorflow:From <ipython-input-17-4368eb6c1368>:1: Model.fit_generator (from tensorflow.python.keras.engine.training) is deprecated and will be removed in a future version.\n",
      "Instructions for updating:\n",
      "Please use Model.fit, which supports generators.\n",
      "Epoch 1/50\n",
      "1779/1779 [==============================] - 18s 10ms/step - loss: 2.0251 - accuracy: 0.2309 - val_loss: 1.6862 - val_accuracy: 0.3029\n",
      "Epoch 2/50\n",
      "1779/1779 [==============================] - 18s 10ms/step - loss: 1.6735 - accuracy: 0.3004 - val_loss: 1.5058 - val_accuracy: 0.3731\n",
      "Epoch 3/50\n",
      "1779/1779 [==============================] - 18s 10ms/step - loss: 1.5924 - accuracy: 0.3441 - val_loss: 1.4705 - val_accuracy: 0.3985\n",
      "Epoch 4/50\n",
      "1779/1779 [==============================] - 18s 10ms/step - loss: 1.5378 - accuracy: 0.3762 - val_loss: 1.3640 - val_accuracy: 0.4517\n",
      "Epoch 5/50\n",
      "1779/1779 [==============================] - 18s 10ms/step - loss: 1.4937 - accuracy: 0.3926 - val_loss: 1.4216 - val_accuracy: 0.4492\n",
      "Epoch 6/50\n",
      "1779/1779 [==============================] - 18s 10ms/step - loss: 1.4470 - accuracy: 0.4201 - val_loss: 1.1984 - val_accuracy: 0.5314\n",
      "Epoch 7/50\n",
      "1779/1779 [==============================] - 18s 10ms/step - loss: 1.4155 - accuracy: 0.4331 - val_loss: 1.3101 - val_accuracy: 0.5059\n",
      "Epoch 8/50\n",
      "1779/1779 [==============================] - 18s 10ms/step - loss: 1.3817 - accuracy: 0.4477 - val_loss: 1.1833 - val_accuracy: 0.5398\n",
      "Epoch 9/50\n",
      "1779/1779 [==============================] - 18s 10ms/step - loss: 1.3510 - accuracy: 0.4645 - val_loss: 1.1491 - val_accuracy: 0.5488\n",
      "Epoch 10/50\n",
      "1779/1779 [==============================] - 18s 10ms/step - loss: 1.3212 - accuracy: 0.4769 - val_loss: 1.0634 - val_accuracy: 0.5872\n",
      "Epoch 11/50\n",
      "1779/1779 [==============================] - 18s 10ms/step - loss: 1.3072 - accuracy: 0.4853 - val_loss: 1.0582 - val_accuracy: 0.6113\n",
      "Epoch 12/50\n",
      "1779/1779 [==============================] - 18s 10ms/step - loss: 1.2802 - accuracy: 0.4969 - val_loss: 1.2876 - val_accuracy: 0.4883\n",
      "Epoch 13/50\n",
      "1777/1779 [============================>.] - ETA: 0s - loss: 1.2590 - accuracy: 0.5061\n",
      "Epoch 00013: ReduceLROnPlateau reducing learning rate to 0.0005000000237487257.\n",
      "1779/1779 [==============================] - 18s 10ms/step - loss: 1.2591 - accuracy: 0.5061 - val_loss: 1.1121 - val_accuracy: 0.5584\n",
      "Epoch 14/50\n",
      "1779/1779 [==============================] - 18s 10ms/step - loss: 1.2044 - accuracy: 0.5313 - val_loss: 0.8928 - val_accuracy: 0.6734\n",
      "Epoch 15/50\n",
      "1779/1779 [==============================] - 18s 10ms/step - loss: 1.1912 - accuracy: 0.5355 - val_loss: 0.9466 - val_accuracy: 0.6407\n",
      "Epoch 16/50\n",
      "1779/1779 [==============================] - 18s 10ms/step - loss: 1.1892 - accuracy: 0.5369 - val_loss: 0.8749 - val_accuracy: 0.6805\n",
      "Epoch 17/50\n",
      "1779/1779 [==============================] - 18s 10ms/step - loss: 1.1720 - accuracy: 0.5469 - val_loss: 0.8867 - val_accuracy: 0.6661\n",
      "Epoch 18/50\n",
      "1779/1779 [==============================] - 18s 10ms/step - loss: 1.1677 - accuracy: 0.5484 - val_loss: 0.8562 - val_accuracy: 0.6868\n",
      "Epoch 19/50\n",
      "1779/1779 [==============================] - 18s 10ms/step - loss: 1.1524 - accuracy: 0.5535 - val_loss: 0.8399 - val_accuracy: 0.6893\n",
      "Epoch 20/50\n",
      "1779/1779 [==============================] - 18s 10ms/step - loss: 1.1452 - accuracy: 0.5525 - val_loss: 0.8781 - val_accuracy: 0.6766\n",
      "Epoch 21/50\n",
      "1777/1779 [============================>.] - ETA: 0s - loss: 1.1431 - accuracy: 0.5611\n",
      "Epoch 00021: ReduceLROnPlateau reducing learning rate to 0.0002500000118743628.\n",
      "1779/1779 [==============================] - 18s 10ms/step - loss: 1.1428 - accuracy: 0.5613 - val_loss: 0.9460 - val_accuracy: 0.6461\n",
      "Epoch 22/50\n",
      "1779/1779 [==============================] - 18s 10ms/step - loss: 1.1058 - accuracy: 0.5738 - val_loss: 0.9583 - val_accuracy: 0.6551\n",
      "Epoch 23/50\n",
      "1777/1779 [============================>.] - ETA: 0s - loss: 1.1083 - accuracy: 0.5746\n",
      "Epoch 00023: ReduceLROnPlateau reducing learning rate to 0.0001250000059371814.\n",
      "1779/1779 [==============================] - 18s 10ms/step - loss: 1.1082 - accuracy: 0.5747 - val_loss: 1.0038 - val_accuracy: 0.6213\n",
      "Epoch 24/50\n",
      "1779/1779 [==============================] - 18s 10ms/step - loss: 1.0855 - accuracy: 0.5820 - val_loss: 0.8503 - val_accuracy: 0.6826\n",
      "Epoch 25/50\n",
      "1779/1779 [==============================] - 18s 10ms/step - loss: 1.0886 - accuracy: 0.5827 - val_loss: 0.7557 - val_accuracy: 0.7282\n",
      "Epoch 26/50\n",
      "1779/1779 [==============================] - 18s 10ms/step - loss: 1.0791 - accuracy: 0.5837 - val_loss: 0.8237 - val_accuracy: 0.6964\n",
      "Epoch 27/50\n",
      "1777/1779 [============================>.] - ETA: 0s - loss: 1.0792 - accuracy: 0.5833\n",
      "Epoch 00027: ReduceLROnPlateau reducing learning rate to 6.25000029685907e-05.\n",
      "1779/1779 [==============================] - 18s 10ms/step - loss: 1.0794 - accuracy: 0.5832 - val_loss: 0.8573 - val_accuracy: 0.6889\n",
      "Epoch 28/50\n",
      "1779/1779 [==============================] - 18s 10ms/step - loss: 1.0751 - accuracy: 0.5894 - val_loss: 0.7983 - val_accuracy: 0.7051\n",
      "Epoch 29/50\n",
      "1777/1779 [============================>.] - ETA: 0s - loss: 1.0603 - accuracy: 0.5940\n",
      "Epoch 00029: ReduceLROnPlateau reducing learning rate to 3.125000148429535e-05.\n",
      "1779/1779 [==============================] - 18s 10ms/step - loss: 1.0601 - accuracy: 0.5941 - val_loss: 0.8343 - val_accuracy: 0.6952\n",
      "Epoch 30/50\n",
      "1779/1779 [==============================] - 18s 10ms/step - loss: 1.0586 - accuracy: 0.5946 - val_loss: 0.8195 - val_accuracy: 0.7011\n",
      "Epoch 31/50\n",
      "1777/1779 [============================>.] - ETA: 0s - loss: 1.0659 - accuracy: 0.5886\n",
      "Epoch 00031: ReduceLROnPlateau reducing learning rate to 1.5625000742147677e-05.\n",
      "1779/1779 [==============================] - 18s 10ms/step - loss: 1.0661 - accuracy: 0.5885 - val_loss: 0.8176 - val_accuracy: 0.7012\n",
      "Epoch 32/50\n",
      "1779/1779 [==============================] - 18s 10ms/step - loss: 1.0626 - accuracy: 0.5902 - val_loss: 0.8327 - val_accuracy: 0.6941\n",
      "Epoch 33/50\n",
      "1777/1779 [============================>.] - ETA: 0s - loss: 1.0664 - accuracy: 0.5911\n",
      "Epoch 00033: ReduceLROnPlateau reducing learning rate to 1e-05.\n",
      "1779/1779 [==============================] - 18s 10ms/step - loss: 1.0665 - accuracy: 0.5910 - val_loss: 0.8242 - val_accuracy: 0.6998\n",
      "Epoch 34/50\n",
      "1779/1779 [==============================] - 18s 10ms/step - loss: 1.0579 - accuracy: 0.5939 - val_loss: 0.8237 - val_accuracy: 0.6976\n",
      "Epoch 35/50\n",
      "1779/1779 [==============================] - 18s 10ms/step - loss: 1.0548 - accuracy: 0.5942 - val_loss: 0.8137 - val_accuracy: 0.7020\n"
     ]
    }
   ],
   "source": [
    "history = model.fit_generator(train_generator,\n",
    "                              epochs=50,\n",
    "                              validation_data=validation_generator,\n",
    "                              validation_steps=total_validate//batch_size,\n",
    "                              steps_per_epoch=total_train//batch_size,\n",
    "                              callbacks=[earlystop,learning_rate_reduction])"
   ]
  },
  {
   "cell_type": "code",
   "execution_count": 19,
   "metadata": {},
   "outputs": [
    {
     "data": {
      "image/png": "[encoded data removed]",
      "text/plain": [
       "<Figure size 432x288 with 1 Axes>"
      ]
     },
     "metadata": {
      "needs_background": "light"
     },
     "output_type": "display_data"
    }
   ],
   "source": [
    "plt.plot(history.history['accuracy'])\n",
    "plt.plot(history.history['val_accuracy'])\n",
    "plt.legend(['training', 'validation'], loc = 'upper left')\n",
    "plt.show()"
   ]
  },
  {
   "cell_type": "code",
   "execution_count": 20,
   "metadata": {},
   "outputs": [],
   "source": [
    "# test_dir = os.listdir(\"test/\")\n",
    "# test_df = pd.DataFrame({'filename': test_dir})\n",
    "# nb_samples = test_df.shape[0]"
   ]
  },
  {
   "cell_type": "code",
   "execution_count": 21,
   "metadata": {},
   "outputs": [
    {
     "name": "stdout",
     "output_type": "stream",
     "text": [
      "Found 34 validated image filenames.\n"
     ]
    }
   ],
   "source": [
    "# test_gen = ImageDataGenerator(rescale=1./255)\n",
    "\n",
    "# test_generator = test_gen.flow_from_dataframe(test_df,\n",
    "#                                               \"test/\",\n",
    "#                                               x_col='filename',\n",
    "#                                               y_col=None,\n",
    "#                                               class_mode=None,\n",
    "#                                               target_size=IMAGE_SIZE,\n",
    "#                                               batch_size=batch_size,\n",
    "#                                               shuffle=False)"
   ]
  },
  {
   "cell_type": "code",
   "execution_count": 26,
   "metadata": {},
   "outputs": [],
   "source": [
    "# predict = model.predict_generator(test_generator,steps=np.ceil(nb_samples/batch_size))"
   ]
  },
  {
   "cell_type": "code",
   "execution_count": 27,
   "metadata": {},
   "outputs": [],
   "source": [
    "# test_df['category'] = np.argmax(predict, axis=-1)"
   ]
  },
  {
   "cell_type": "code",
   "execution_count": 28,
   "metadata": {},
   "outputs": [],
   "source": [
    "# label_map = dict((v,k) for k,v in train_generator.class_indices.items())\n",
    "# test_df['category'] = test_df['category'].replace(label_map)"
   ]
  },
  {
   "cell_type": "code",
   "execution_count": 29,
   "metadata": {},
   "outputs": [],
   "source": [
    "# test_df"
   ]
  },
  {
   "cell_type": "code",
   "execution_count": null,
   "metadata": {},
   "outputs": [],
   "source": []
  }
 ],
 "metadata": {
  "kernelspec": {
   "display_name": "Python 3",
   "language": "python",
   "name": "python3"
  },
  "language_info": {
   "codemirror_mode": {
    "name": "ipython",
    "version": 3
   },
   "file_extension": ".py",
   "mimetype": "text/x-python",
   "name": "python",
   "nbconvert_exporter": "python",
   "pygments_lexer": "ipython3",
   "version": "3.8.3"
  }
 },
 "nbformat": 4,
 "nbformat_minor": 4
}
